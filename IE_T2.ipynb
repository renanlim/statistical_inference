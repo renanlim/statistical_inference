{
 "cells": [
  {
   "attachments": {},
   "cell_type": "markdown",
   "metadata": {},
   "source": [
    "# TRABALHO 02 - INFERÊNCIA ESTATÍSTICA\n",
    "\n",
    "## Bibliotecas importadas:"
   ]
  },
  {
   "cell_type": "code",
   "execution_count": 2,
   "metadata": {},
   "outputs": [
    {
     "ename": "ModuleNotFoundError",
     "evalue": "No module named 'pandas'",
     "output_type": "error",
     "traceback": [
      "\u001b[1;31m---------------------------------------------------------------------------\u001b[0m",
      "\u001b[1;31mModuleNotFoundError\u001b[0m                       Traceback (most recent call last)",
      "Cell \u001b[1;32mIn[2], line 1\u001b[0m\n\u001b[1;32m----> 1\u001b[0m \u001b[39mimport\u001b[39;00m \u001b[39mpandas\u001b[39;00m \u001b[39mas\u001b[39;00m \u001b[39mpd\u001b[39;00m\n\u001b[0;32m      2\u001b[0m \u001b[39mimport\u001b[39;00m \u001b[39mnumpy\u001b[39;00m \u001b[39mas\u001b[39;00m \u001b[39mnp\u001b[39;00m\n\u001b[0;32m      3\u001b[0m \u001b[39mimport\u001b[39;00m \u001b[39mscipy\u001b[39;00m\u001b[39m.\u001b[39;00m\u001b[39mstats\u001b[39;00m \u001b[39mas\u001b[39;00m \u001b[39mstats\u001b[39;00m\n",
      "\u001b[1;31mModuleNotFoundError\u001b[0m: No module named 'pandas'"
     ]
    }
   ],
   "source": [
    "import pandas as pd\n",
    "import numpy as np\n",
    "import scipy.stats as stats"
   ]
  },
  {
   "attachments": {},
   "cell_type": "markdown",
   "metadata": {},
   "source": [
    "## 1 Máquina desregulada?\n",
    "\n",
    "#### Considere que uma máquina de preenchimento de garrafas está configurada para preencher cada garrafa com 500 ml de vinho. O fabricante suspeita de que essa máquina está preenchendo as garrafas com valores a menor. Ele então coleta uma amostra de 20 garrafas preenchidas a partir da linha de produção e mede cuidadosamente o volume em cada uma delas. Os resultados obtidos nessas medições estão a seguir (valores em miligramas):\n",
    "\n",
    "#### 484.11, 459.49, 471.38, 512.01, 494.48, 528.63, 493.64, 485.03, 473.88, 501.59,\n",
    "#### 502.85, 538.08, 465.68, 495.03, 475.32, 529.41, 518.13, 464.32, 449.08, 489.27\n",
    "\n",
    "#### Nessa parte do trabalho você deve verificar a alegação de que a máquina está desregulada, conforme a suspeita do fabricante."
   ]
  },
  {
   "attachments": {},
   "cell_type": "markdown",
   "metadata": {},
   "source": [
    "#### (i) Os procedimentos paramétricos de testes de hipóteses sobre uma amostra que estudamos em nosso curso presumem que a amostra a ser usada é proveniente de uma distribuição aproximadamente normal. Para a amostra fornecida verifique essa hipótese usando dois dos testes de normalidades que estudamos no curso. Para isso, use um nível de significância igual a 0,001.\n"
   ]
  },
  {
   "attachments": {},
   "cell_type": "markdown",
   "metadata": {},
   "source": [
    "Para verificar a alegação de que a máquina de preenchimento de garrafas está desregulada, podemos realizar um teste de hipótese. A hipótese nula (H0) seria que a máquina está preenchendo as garrafas corretamente, ou seja, a média do volume de preenchimento é igual a 500 ml. A hipótese alternativa (H1) seria que a máquina está preenchendo as garrafas com valores menores, ou seja, a média do volume de preenchimento é menor que 500 ml. Podemos realizar dois testes de normalidade comumente utilizados: o teste de Shapiro-Wilk e o teste de Kolmogorov-Smirnov.\n"
   ]
  },
  {
   "cell_type": "code",
   "execution_count": 4,
   "metadata": {},
   "outputs": [
    {
     "name": "stdout",
     "output_type": "stream",
     "text": [
      "Teste de Shapiro-Wilk:\n",
      "Estatística de teste: 0.9732937216758728\n",
      "Valor p: 0.8223317265510559\n",
      "A amostra parece ser proveniente de uma distribuição normal (não rejeita H0).\n",
      "\n",
      "Teste de Kolmogorov-Smirnov:\n",
      "Estatística de teste: 1.0\n",
      "Valor p: 0.0\n",
      "A amostra não parece ser proveniente de uma distribuição normal (rejeita H0).\n"
     ]
    }
   ],
   "source": [
    "amostra = [484.11, 459.49, 471.38, 512.01, 494.48, 528.63, 493.64, 485.03, 473.88, 501.59,\n",
    "          502.85, 538.08, 465.68, 495.03, 475.32, 529.41, 518.13, 464.32, 449.08, 489.27]\n",
    "\n",
    "shapiro_stat, shapiro_pvalue = stats.shapiro(amostra)\n",
    "print(\"Teste de Shapiro-Wilk:\")\n",
    "print(\"Estatística de teste:\", shapiro_stat)\n",
    "print(\"Valor p:\", shapiro_pvalue)\n",
    "if shapiro_pvalue > 0.001:\n",
    "    print(\"A amostra parece ser proveniente de uma distribuição normal (não rejeita H0).\")\n",
    "else:\n",
    "    print(\"A amostra não parece ser proveniente de uma distribuição normal (rejeita H0).\")\n",
    "\n",
    "kstest_stat, kstest_pvalue = stats.kstest(amostra, 'norm')\n",
    "print(\"\\nTeste de Kolmogorov-Smirnov:\")\n",
    "print(\"Estatística de teste:\", kstest_stat)\n",
    "print(\"Valor p:\", kstest_pvalue)\n",
    "if kstest_pvalue > 0.001:\n",
    "    print(\"A amostra parece ser proveniente de uma distribuição normal (não rejeita H0).\")\n",
    "else:\n",
    "    print(\"A amostra não parece ser proveniente de uma distribuição normal (rejeita H0).\")\n"
   ]
  },
  {
   "attachments": {},
   "cell_type": "markdown",
   "metadata": {},
   "source": [
    "Os testes retornam a estatística de teste e o valor p. No caso do teste de Shapiro-Wilk, a hipótese nula (H0) é que a amostra vem de uma distribuição normal. Já no teste de Kolmogorov-Smirnov, a hipótese nula (H0) é que a amostra segue uma distribuição normal específica.\n",
    "\n",
    "Ao executar o código, temos os resultados dos testes de normalidade para a amostra fornecida. Se o valor p associado a cada teste for maior que 0,001, não teremos evidências para rejeitar a hipótese nula de que a amostra segue uma distribuição normal. Caso contrário, rejeitamos a hipótese nula e concluímos que a amostra não parece ser proveniente de uma distribuição normal."
   ]
  },
  {
   "attachments": {},
   "cell_type": "markdown",
   "metadata": {},
   "source": [
    "#### (ii) Formule as hipóteses nula e alternativa. Seja consistente com o enunciado fornecido."
   ]
  },
  {
   "attachments": {},
   "cell_type": "markdown",
   "metadata": {},
   "source": [
    "Hipótese Nula (H0): A máquina de preenchimento de garrafas está preenchendo as garrafas corretamente, ou seja, a média do volume de preenchimento é igual a 500 ml.\n",
    "\n",
    "Hipótese Alternativa (H1): A máquina de preenchimento de garrafas está preenchendo as garrafas com valores menores, ou seja, a média do volume de preenchimento é menor que 500 ml.\n",
    "\n",
    "Essas hipóteses são formuladas com base na suspeita do fabricante de que a máquina está desregulada e preenchendo as garrafas com valores abaixo do esperado. O objetivo é verificar se há evidências estatísticas para rejeitar a hipótese nula em favor da hipótese alternativa."
   ]
  },
  {
   "attachments": {},
   "cell_type": "markdown",
   "metadata": {},
   "source": [
    "#### (iii) A variância da população é desconhecida. Sendo assim, certifique-se de usar o procedimento de teste de hipóteses adequado para essa situação. Apresente sua análise para o nível de significância igual a 5%."
   ]
  },
  {
   "attachments": {},
   "cell_type": "markdown",
   "metadata": {},
   "source": [
    "Se a variância da população é desconhecida, devemos utilizar o teste t de Student para amostras independentes. No entanto, no enunciado não é mencionado que a amostra foi coletada de forma independente, mas sim que foi uma amostra de 20 garrafas preenchidas a partir da linha de produção. Portanto, vamos assumir que a amostra é representativa o suficiente para aplicar o teste t para amostras independentes.\n",
    "\n",
    "Vamos realizar o teste de hipóteses com um nível de significância de 5% (α = 0,05) para verificar se há evidências estatísticas para rejeitar a hipótese nula.\n",
    "\n",
    "Para realizar o teste t de Student, precisamos calcular a estatística de teste t e compará-la com o valor crítico.\n",
    "\n",
    "Passo 1: Calcular a média amostral (x̄) e o desvio padrão amostral (s).\n",
    "\n",
    "Passo 2: Calcular a estatística de teste t.\n",
    "\n",
    "Passo 3: Calcular o valor crítico.\n",
    "Para um teste unicaudal à esquerda com um nível de significância de 5% e 19 graus de liberdade (n - 1), consultando a tabela t de Student, o valor crítico t é aproximadamente -1.729.\n",
    "\n",
    "Passo 4: Comparar a estatística de teste com o valor crítico.\n",
    "Como -1.52 > -1.729, não temos evidências estatísticas para rejeitar a hipótese nula.\n"
   ]
  },
  {
   "cell_type": "code",
   "execution_count": 5,
   "metadata": {},
   "outputs": [
    {
     "name": "stdout",
     "output_type": "stream",
     "text": [
      "Média: 491.5705\n",
      "Desvio Padrão: 24.793684356048583\n",
      "Estatística de Teste t: -1.5204626102079257\n",
      "Valor crítico t: -1.7291328115213678\n"
     ]
    }
   ],
   "source": [
    "from scipy.stats import t\n",
    "\n",
    "amostras = np.array([484.11, 459.49, 471.38, 512.01, 494.48, 528.63, 493.64, 485.03, 473.88, 501.59,\n",
    "                   502.85, 538.08, 465.68, 495.03, 475.32, 529.41, 518.13, 464.32, 449.08, 489.27])\n",
    "\n",
    "mu = 500 \n",
    "alpha = 0.05 \n",
    "n = len(amostras) \n",
    "\n",
    "media = np.mean(amostras)\n",
    "s = np.std(amostras, ddof=1)\n",
    "t_stat = (media - mu) / (s / np.sqrt(n))\n",
    "t_critico = t.ppf(alpha, df=n-1)\n",
    "\n",
    "print(\"Média:\", media)\n",
    "print(\"Desvio Padrão:\", s)\n",
    "print(\"Estatística de Teste t:\", t_stat)\n",
    "print(\"Valor crítico t:\", t_critico)"
   ]
  },
  {
   "attachments": {},
   "cell_type": "markdown",
   "metadata": {},
   "source": [
    "Portanto, com um nível de significância de 5%, não encontramos evidências suficientes para afirmar que a máquina de preenchimento de garrafas está desregulada e preenchendo as garrafas com valores menores que 500 ml."
   ]
  },
  {
   "attachments": {},
   "cell_type": "markdown",
   "metadata": {},
   "source": [
    "## 2 Comparação de métodos computacionais\n",
    "\n",
    "#### Para essa parte do trabalho, é fornecida uma planilha em formato Excel que apresenta dados comparativos entre as precisões (medidas em valores de porcentagem) de dois métodos computacionais, chamados CutSenti e MinCut1. O propósito desses métodos não é relevante para o que se pede nesse trabalho. O relevante é que as amostras fornecidas são pareadas (i.e., dependentes). Também relevante é saber que, quanto maior a precisão, melhor o método computacional. Para o método MinCut, existem três variantes do mesmo, denominadas MinCut T1 C, MinCut T1 C2 e MinCut T1 Exp. Cada uma dessas variantes é comparada com o método MinCut relativamente à precisãoo média. Sendo assim, existem três pares de amostras dependentes a considerar:\n",
    "\n",
    "#### • CutSenti e MinCut_T1_C\n",
    "#### • CutSenti e MinCut_T1_C2\n",
    "#### • CutSenti e MinCut_T1_Exp\n"
   ]
  },
  {
   "cell_type": "code",
   "execution_count": 6,
   "metadata": {},
   "outputs": [
    {
     "data": {
      "text/html": [
       "<div>\n",
       "<style scoped>\n",
       "    .dataframe tbody tr th:only-of-type {\n",
       "        vertical-align: middle;\n",
       "    }\n",
       "\n",
       "    .dataframe tbody tr th {\n",
       "        vertical-align: top;\n",
       "    }\n",
       "\n",
       "    .dataframe thead th {\n",
       "        text-align: right;\n",
       "    }\n",
       "</style>\n",
       "<table border=\"1\" class=\"dataframe\">\n",
       "  <thead>\n",
       "    <tr style=\"text-align: right;\">\n",
       "      <th></th>\n",
       "      <th>CutSenti</th>\n",
       "      <th>MinCut_T1_C</th>\n",
       "      <th>MinCut_T1_C2</th>\n",
       "      <th>MinCut_T1_Exp</th>\n",
       "    </tr>\n",
       "  </thead>\n",
       "  <tbody>\n",
       "    <tr>\n",
       "      <th>0</th>\n",
       "      <td>83.1</td>\n",
       "      <td>82.65</td>\n",
       "      <td>82.85</td>\n",
       "      <td>82.85</td>\n",
       "    </tr>\n",
       "    <tr>\n",
       "      <th>1</th>\n",
       "      <td>83.1</td>\n",
       "      <td>82.30</td>\n",
       "      <td>82.60</td>\n",
       "      <td>82.60</td>\n",
       "    </tr>\n",
       "    <tr>\n",
       "      <th>2</th>\n",
       "      <td>83.1</td>\n",
       "      <td>82.70</td>\n",
       "      <td>82.70</td>\n",
       "      <td>82.60</td>\n",
       "    </tr>\n",
       "    <tr>\n",
       "      <th>3</th>\n",
       "      <td>82.9</td>\n",
       "      <td>82.70</td>\n",
       "      <td>82.80</td>\n",
       "      <td>82.70</td>\n",
       "    </tr>\n",
       "    <tr>\n",
       "      <th>4</th>\n",
       "      <td>82.8</td>\n",
       "      <td>82.70</td>\n",
       "      <td>82.80</td>\n",
       "      <td>82.80</td>\n",
       "    </tr>\n",
       "  </tbody>\n",
       "</table>\n",
       "</div>"
      ],
      "text/plain": [
       "   CutSenti  MinCut_T1_C  MinCut_T1_C2  MinCut_T1_Exp\n",
       "0      83.1        82.65         82.85          82.85\n",
       "1      83.1        82.30         82.60          82.60\n",
       "2      83.1        82.70         82.70          82.60\n",
       "3      82.9        82.70         82.80          82.70\n",
       "4      82.8        82.70         82.80          82.80"
      ]
     },
     "execution_count": 6,
     "metadata": {},
     "output_type": "execute_result"
    }
   ],
   "source": [
    "df_cutsenti = pd.read_csv('CutSenti.csv', sep =';')\n",
    "df_cutsenti.head()\n"
   ]
  },
  {
   "attachments": {},
   "cell_type": "markdown",
   "metadata": {},
   "source": [
    "#### (i) Os procedimentos paramétricos de testes de hipóteses sobre duas amostras que estudamos em nosso curso presumem que as amostras a serem usadas são provenientes de uma distribuição aproximadamente normal. Para cada uma das amostras fornecidas, verifique essa hipótese usando dois dos testes de normalidades que estudamos no curso. Para isso, use um nível de significância igual a 5%."
   ]
  },
  {
   "cell_type": "code",
   "execution_count": 7,
   "metadata": {},
   "outputs": [],
   "source": [
    "cut_senti = df_cutsenti['CutSenti']\n",
    "min_cut_t1_c = df_cutsenti['MinCut_T1_C']\n",
    "min_cut_t1_c2 = df_cutsenti['MinCut_T1_C2']\n",
    "min_cut_t1_exp = df_cutsenti['MinCut_T1_Exp']"
   ]
  },
  {
   "cell_type": "code",
   "execution_count": 8,
   "metadata": {},
   "outputs": [
    {
     "name": "stdout",
     "output_type": "stream",
     "text": [
      "Teste de Shapiro-Wilk:\n",
      "CutSenti: Estatística de teste = 0.842032253742218 , Valor p = 0.033577363938093185\n",
      "MinCut_T1_C: Estatística de teste = 0.7313472032546997 , Valor p = 0.0011885488638654351\n",
      "MinCut_T1_C2: Estatística de teste = 0.9247221946716309 , Valor p = 0.359951913356781\n",
      "MinCut_T1_Exp: Estatística de teste = 0.8792006373405457 , Valor p = 0.10164106637239456\n",
      "\n",
      "Teste de Kolmogorov-Smirnov:\n",
      "CutSenti: Estatística de teste = 1.0 , Valor p = 0.0\n",
      "MinCut_T1_C: Estatística de teste = 1.0 , Valor p = 0.0\n",
      "MinCut_T1_C2: Estatística de teste = 1.0 , Valor p = 0.0\n",
      "MinCut_T1_Exp: Estatística de teste = 1.0 , Valor p = 0.0\n"
     ]
    }
   ],
   "source": [
    "print(\"Teste de Shapiro-Wilk:\")\n",
    "shapiro_stat_cut_senti, shapiro_pvalue_cut_senti = stats.shapiro(cut_senti)\n",
    "print(\"CutSenti: Estatística de teste =\", shapiro_stat_cut_senti, \", Valor p =\", shapiro_pvalue_cut_senti)\n",
    "\n",
    "shapiro_stat_min_cut_t1_c, shapiro_pvalue_min_cut_t1_c = stats.shapiro(min_cut_t1_c)\n",
    "print(\"MinCut_T1_C: Estatística de teste =\", shapiro_stat_min_cut_t1_c, \", Valor p =\", shapiro_pvalue_min_cut_t1_c)\n",
    "\n",
    "shapiro_stat_min_cut_t1_c2, shapiro_pvalue_min_cut_t1_c2 = stats.shapiro(min_cut_t1_c2)\n",
    "print(\"MinCut_T1_C2: Estatística de teste =\", shapiro_stat_min_cut_t1_c2, \", Valor p =\", shapiro_pvalue_min_cut_t1_c2)\n",
    "\n",
    "shapiro_stat_min_cut_t1_exp, shapiro_pvalue_min_cut_t1_exp = stats.shapiro(min_cut_t1_exp)\n",
    "print(\"MinCut_T1_Exp: Estatística de teste =\", shapiro_stat_min_cut_t1_exp, \", Valor p =\", shapiro_pvalue_min_cut_t1_exp)\n",
    "\n",
    "print(\"\\nTeste de Kolmogorov-Smirnov:\")\n",
    "kstest_stat_cut_senti, kstest_pvalue_cut_senti = stats.kstest(cut_senti, 'norm')\n",
    "print(\"CutSenti: Estatística de teste =\", kstest_stat_cut_senti, \", Valor p =\", kstest_pvalue_cut_senti)\n",
    "\n",
    "kstest_stat_min_cut_t1_c, kstest_pvalue_min_cut_t1_c = stats.kstest(min_cut_t1_c, 'norm')\n",
    "print(\"MinCut_T1_C: Estatística de teste =\", kstest_stat_min_cut_t1_c, \", Valor p =\", kstest_pvalue_min_cut_t1_c)\n",
    "\n",
    "kstest_stat_min_cut_t1_c2, kstest_pvalue_min_cut_t1_c2 = stats.kstest(min_cut_t1_c2, 'norm')\n",
    "print(\"MinCut_T1_C2: Estatística de teste =\", kstest_stat_min_cut_t1_c2, \", Valor p =\", kstest_pvalue_min_cut_t1_c2)\n",
    "\n",
    "kstest_stat_min_cut_t1_exp, kstest_pvalue_min_cut_t1_exp = stats.kstest(min_cut_t1_exp, 'norm')\n",
    "print(\"MinCut_T1_Exp: Estatística de teste =\", kstest_stat_min_cut_t1_exp, \", Valor p =\", kstest_pvalue_min_cut_t1_exp)"
   ]
  },
  {
   "attachments": {},
   "cell_type": "markdown",
   "metadata": {},
   "source": [
    "Ao interpretar os resultados dos testes de normalidade, é importante considerar o valor de significância escolhido (5%).\n",
    "\n",
    "Para o teste de Shapiro-Wilk: A hipótese nula é de que a amostra segue uma distribuição normal. Se o valor p for menor que 0,05, podemos rejeitar a hipótese nula e concluir que a amostra não segue uma distribuição normal.\n",
    "\n",
    "CutSenti: O valor p (0.0336) é menor que 0.05, portanto, podemos concluir que a amostra CutSenti não segue uma distribuição normal.\n",
    "\n",
    "MinCut_T1_C: O valor p (0.0012) é menor que 0.05, indicando que a amostra MinCut_T1_C também não segue uma distribuição normal.\n",
    "\n",
    "MinCut_T1_C2: O valor p (0.3599) é maior que 0.05, portanto, não temos evidências suficientes para rejeitar a hipótese nula. Podemos considerar que a amostra MinCut_T1_C2 segue uma distribuição normal aproximadamente.\n",
    "\n",
    "MinCut_T1_Exp: O valor p (0.1016) é maior que 0.05, indicando que a amostra MinCut_T1_Exp também segue uma distribuição normal aproximadamente.\n",
    "\n",
    "Para o teste de Kolmogorov-Smirnov: A interpretação é semelhante. Se o valor p for menor que 0.05, rejeitamos a hipótese nula de que a amostra segue uma distribuição normal.\n",
    "\n",
    "CutSenti: O valor p (0.0) é menor que 0.05, portanto, concluímos que a amostra CutSenti não segue uma distribuição normal.\n",
    "\n",
    "MinCut_T1_C: O valor p (0.0) é menor que 0.05, indicando que a amostra MinCut_T1_C também não segue uma distribuição normal.\n",
    "\n",
    "MinCut_T1_C2: O valor p (0.0) é menor que 0.05, confirmando que a amostra MinCut_T1_C2 não segue uma distribuição normal.\n",
    "\n",
    "MinCut_T1_Exp: O valor p (0.0) é menor que 0.05, indicando que a amostra MinCut_T1_Exp também não segue uma distribuição normal.\n",
    "\n",
    "Por fim, com base nos resultados dos testes de normalidade, podemos concluir que as amostras CutSenti e MinCut_T1_C não seguem uma distribuição normal. Por outro lado, as amostras MinCut_T1_C2 e MinCut_T1_Exp podem ser consideradas aproximadamente normalmente distribuídas."
   ]
  },
  {
   "attachments": {},
   "cell_type": "markdown",
   "metadata": {},
   "source": [
    "#### (ii) Agora, aplique o teste de hipóteses propriamente dito. Forneça a descrição detalhada dos quatro passos de aplicação do teste. Repare que a variância da populaçãoo não é conhecida. Sendo assim, certifique-se de usar o teste de hipóteses adequado para essa situação. Apresente sua análise para o nível de significância igual a 1%. Repare que você deve aplicar o teste de hipóteses três vezes, pois existem três pares de amostras pareadas"
   ]
  },
  {
   "attachments": {},
   "cell_type": "markdown",
   "metadata": {},
   "source": [
    "Para realizar o teste de hipóteses adequado para a comparação de três pares de amostras pareadas, considerando que a variância da população não é conhecida, podemos usar o teste t pareado ou o teste t de Student para amostras pareadas. Aqui estão os quatro passos para aplicar o teste de hipóteses:\n",
    "\n",
    "Passo 1: Formular as hipóteses nula (H0) e alternativa (H1):\n",
    "\n",
    "H0 (hipótese nula): Não há diferença significativa entre as médias das amostras.\n",
    "H1 (hipótese alternativa): Há diferença significativa entre as médias das amostras.\n",
    "\n",
    "Passo 2: Escolher o nível de significância (α):\n",
    "\n",
    "O nível de significância é de 1%, o que corresponde a α = 0.01.\n",
    "\n",
    "Passo 3: Calcular a estatística de teste e o valor crítico:\n",
    "\n",
    "Para cada par de amostras, deve-se calcular a diferença entre as observações pareadas.\n",
    "Em seguida, aplicar o teste t pareado ou o teste t de Student para amostras pareadas usando a biblioteca scipy.stats.\n",
    "O resultado será a estatística de teste e o valor p associado.\n",
    "\n",
    "Passo 4: Tomada de decisão:\n",
    "\n",
    "Comparar o valor p calculado com o nível de significância α.\n",
    "Se o valor p for menor que α, rejeitamos a hipótese nula (H0) e concluirmos que há diferença significativa entre as médias das amostras.\n",
    "Se o valor p for maior que α, não rejeitamis a hipótese nula (H0) e não há evidência suficiente para concluirmos que há diferença significativa entre as médias das amostras.\n",
    "Agora, vamos aplicar esses passos para cada um dos três pares de amostras pareadas:\n",
    "\n",
    "CutSenti e MinCut_T1_C:\n",
    "\n",
    "Hipóteses:\n",
    "H0: Não há diferença significativa entre as médias de CutSenti e MinCut_T1_C.\n",
    "H1: Há diferença significativa entre as médias de CutSenti e MinCut_T1_C.\n",
    "Nível de significância (α): 0.01.\n",
    "\n",
    "CutSenti e MinCut_T1_C2:\n",
    "\n",
    "Hipóteses:\n",
    "H0: Não há diferença significativa entre as médias de CutSenti e MinCut_T1_C2.\n",
    "H1: Há diferença significativa entre as médias de CutSenti e MinCut_T1_C2.\n",
    "Nível de significância (α): 0.01.\n",
    "\n",
    "CutSenti e MinCut_T1_Exp:\n",
    "\n",
    "Hipóteses:\n",
    "H0: Não há diferença significativa entre as médias de CutSenti e MinCut_T1_Exp.\n",
    "H1: Há diferença significativa entre as médias de CutSenti e MinCut_T1_Exp.\n",
    "Nível de significância (α): 0.01.\n"
   ]
  },
  {
   "cell_type": "code",
   "execution_count": 9,
   "metadata": {},
   "outputs": [
    {
     "name": "stdout",
     "output_type": "stream",
     "text": [
      "Par 1 - CutSenti e MinCut_T1_C:\n",
      "Estatística de teste: 6.627540284360352\n",
      "Valor p: 5.871950507742057e-05\n",
      "\n",
      "Par 2 - CutSenti e MinCut_T1_C2:\n",
      "Estatística de teste: 5.236244150748436\n",
      "Valor p: 0.00038085260993325797\n",
      "\n",
      "Par 3 - CutSenti e MinCut_T1_Exp:\n",
      "Estatística de teste: 6.156640752237603\n",
      "Valor p: 0.0001073817011359165\n"
     ]
    }
   ],
   "source": [
    "from scipy import stats\n",
    "\n",
    "pair1 = stats.ttest_rel(df_cutsenti['CutSenti'], df_cutsenti['MinCut_T1_C'])\n",
    "print(\"Par 1 - CutSenti e MinCut_T1_C:\")\n",
    "print(\"Estatística de teste:\", pair1.statistic)\n",
    "print(\"Valor p:\", pair1.pvalue)\n",
    "print(\"\")\n",
    "\n",
    "pair2 = stats.ttest_rel(df_cutsenti['CutSenti'], df_cutsenti['MinCut_T1_C2'])\n",
    "print(\"Par 2 - CutSenti e MinCut_T1_C2:\")\n",
    "print(\"Estatística de teste:\", pair2.statistic)\n",
    "print(\"Valor p:\", pair2.pvalue)\n",
    "print(\"\")\n",
    "\n",
    "pair3 = stats.ttest_rel(df_cutsenti['CutSenti'], df_cutsenti['MinCut_T1_Exp'])\n",
    "print(\"Par 3 - CutSenti e MinCut_T1_Exp:\")\n",
    "print(\"Estatística de teste:\", pair3.statistic)\n",
    "print(\"Valor p:\", pair3.pvalue)\n"
   ]
  },
  {
   "attachments": {},
   "cell_type": "markdown",
   "metadata": {},
   "source": [
    "Par 1 - CutSenti e MinCut_T1_C:\n",
    "\n",
    "Estatística de teste: 6.62\n",
    "Valor p: 5.87e-05\n",
    "No Par 1, o valor p obtido é muito menor que o nível de significância (α = 0.01). Portanto, rejeitamos a hipótese nula de que não há diferença significativa entre as médias de CutSenti e MinCut_T1_C. Podemos concluir que há evidências estatísticas para afirmar que há diferença significativa entre as médias dessas duas amostras pareadas.\n",
    "\n",
    "Par 2 - CutSenti e MinCut_T1_C2:\n",
    "\n",
    "Estatística de teste: 5.23\n",
    "Valor p: 0.00038\n",
    "No Par 2, assim como no Par 1, o valor p é menor que o nível de significância (α = 0.01). Portanto, rejeitamos a hipótese nula de que não há diferença significativa entre as médias de CutSenti e MinCut_T1_C2. Concluímos que há diferença estatisticamente significativa entre as médias dessas duas amostras pareadas.\n",
    "\n",
    "Par 3 - CutSenti e MinCut_T1_Exp:\n",
    "\n",
    "Estatística de teste: 6.15\n",
    "Valor p: 0.000107\n",
    "No Par 3, novamente observamos que o valor p é menor que o nível de significância (α = 0.01). Portanto, rejeitamos a hipótese nula de que não há diferença significativa entre as médias de CutSenti e MinCut_T1_Exp. Concluímos que há diferença estatisticamente significativa entre as médias dessas duas amostras pareadas.\n",
    "\n",
    "Em resumo, com base nos resultados dos testes de hipóteses, encontramos evidências estatísticas para concluir que há diferenças significativas nas médias entre CutSenti e cada uma das variantes de MinCut (MinCut_T1_C, MinCut_T1_C2 e MinCut_T1_Exp). Isso sugere que os métodos computacionais estão produzindo resultados com precisões estatisticamente diferentes."
   ]
  },
  {
   "attachments": {},
   "cell_type": "markdown",
   "metadata": {},
   "source": [
    "## 3 t-teste independente\n",
    "\n",
    "#### Considere o conjunto de dados mtcars (fornecido no arquivo mtcars.csv). Esse conjunto de dados apresenta informações sobre modelos de carros. Esse conjunto de dados contém várias colunas. Entretanto para essa parte do trabalho, duas delas são relevantes:\n",
    "\n",
    "#### • A coluna denominada 'am' indica o tipo de sistema de transmissão usado no modelo de automóvel (0 = automatic, 1 = manual). Sendo assim, esse conjunto pode ser dividido em duas amostras independentes: carros com transmissão automática e carros com transmissão manual.\n",
    "\n",
    "#### • A coluna denominada 'mpg' (miles per galon) fornece a quantidade de milhas por galão para diferentes modelos de carros. Desse modo, essa coluna fornece uma medida da eficiência de consumo de combustível para cada modelo de carro listado no conjunto de dados.\n"
   ]
  },
  {
   "attachments": {},
   "cell_type": "markdown",
   "metadata": {},
   "source": [
    "#### (i) Os procedimentos paramétricos de testes de hipóteses sobre duas amostras que estudamos em nosso curso presumem que as amostras a serem usadas são provenientes de uma distribuição aproximadamente normal. Para cada uma das amostras fornecidas, verifique essa hipótese usando dois dos testes de normalidades que estudamos no curso. Para isso, use um nível de significância igual a 5%.\n"
   ]
  },
  {
   "cell_type": "code",
   "execution_count": 10,
   "metadata": {},
   "outputs": [
    {
     "data": {
      "text/html": [
       "<div>\n",
       "<style scoped>\n",
       "    .dataframe tbody tr th:only-of-type {\n",
       "        vertical-align: middle;\n",
       "    }\n",
       "\n",
       "    .dataframe tbody tr th {\n",
       "        vertical-align: top;\n",
       "    }\n",
       "\n",
       "    .dataframe thead th {\n",
       "        text-align: right;\n",
       "    }\n",
       "</style>\n",
       "<table border=\"1\" class=\"dataframe\">\n",
       "  <thead>\n",
       "    <tr style=\"text-align: right;\">\n",
       "      <th></th>\n",
       "      <th>model</th>\n",
       "      <th>mpg</th>\n",
       "      <th>cyl</th>\n",
       "      <th>disp</th>\n",
       "      <th>hp</th>\n",
       "      <th>drat</th>\n",
       "      <th>wt</th>\n",
       "      <th>qsec</th>\n",
       "      <th>vs</th>\n",
       "      <th>am</th>\n",
       "      <th>gear</th>\n",
       "      <th>carb</th>\n",
       "    </tr>\n",
       "  </thead>\n",
       "  <tbody>\n",
       "    <tr>\n",
       "      <th>0</th>\n",
       "      <td>Mazda RX4</td>\n",
       "      <td>21.0</td>\n",
       "      <td>6</td>\n",
       "      <td>160.0</td>\n",
       "      <td>110</td>\n",
       "      <td>3.90</td>\n",
       "      <td>2.620</td>\n",
       "      <td>16.46</td>\n",
       "      <td>0</td>\n",
       "      <td>1</td>\n",
       "      <td>4</td>\n",
       "      <td>4</td>\n",
       "    </tr>\n",
       "    <tr>\n",
       "      <th>1</th>\n",
       "      <td>Mazda RX4 Wag</td>\n",
       "      <td>21.0</td>\n",
       "      <td>6</td>\n",
       "      <td>160.0</td>\n",
       "      <td>110</td>\n",
       "      <td>3.90</td>\n",
       "      <td>2.875</td>\n",
       "      <td>17.02</td>\n",
       "      <td>0</td>\n",
       "      <td>1</td>\n",
       "      <td>4</td>\n",
       "      <td>4</td>\n",
       "    </tr>\n",
       "    <tr>\n",
       "      <th>2</th>\n",
       "      <td>Datsun 710</td>\n",
       "      <td>22.8</td>\n",
       "      <td>4</td>\n",
       "      <td>108.0</td>\n",
       "      <td>93</td>\n",
       "      <td>3.85</td>\n",
       "      <td>2.320</td>\n",
       "      <td>18.61</td>\n",
       "      <td>1</td>\n",
       "      <td>1</td>\n",
       "      <td>4</td>\n",
       "      <td>1</td>\n",
       "    </tr>\n",
       "    <tr>\n",
       "      <th>3</th>\n",
       "      <td>Hornet 4 Drive</td>\n",
       "      <td>21.4</td>\n",
       "      <td>6</td>\n",
       "      <td>258.0</td>\n",
       "      <td>110</td>\n",
       "      <td>3.08</td>\n",
       "      <td>3.215</td>\n",
       "      <td>19.44</td>\n",
       "      <td>1</td>\n",
       "      <td>0</td>\n",
       "      <td>3</td>\n",
       "      <td>1</td>\n",
       "    </tr>\n",
       "    <tr>\n",
       "      <th>4</th>\n",
       "      <td>Hornet Sportabout</td>\n",
       "      <td>18.7</td>\n",
       "      <td>8</td>\n",
       "      <td>360.0</td>\n",
       "      <td>175</td>\n",
       "      <td>3.15</td>\n",
       "      <td>3.440</td>\n",
       "      <td>17.02</td>\n",
       "      <td>0</td>\n",
       "      <td>0</td>\n",
       "      <td>3</td>\n",
       "      <td>2</td>\n",
       "    </tr>\n",
       "  </tbody>\n",
       "</table>\n",
       "</div>"
      ],
      "text/plain": [
       "               model   mpg  cyl   disp   hp  drat     wt   qsec  vs  am  gear  \\\n",
       "0          Mazda RX4  21.0    6  160.0  110  3.90  2.620  16.46   0   1     4   \n",
       "1      Mazda RX4 Wag  21.0    6  160.0  110  3.90  2.875  17.02   0   1     4   \n",
       "2         Datsun 710  22.8    4  108.0   93  3.85  2.320  18.61   1   1     4   \n",
       "3     Hornet 4 Drive  21.4    6  258.0  110  3.08  3.215  19.44   1   0     3   \n",
       "4  Hornet Sportabout  18.7    8  360.0  175  3.15  3.440  17.02   0   0     3   \n",
       "\n",
       "   carb  \n",
       "0     4  \n",
       "1     4  \n",
       "2     1  \n",
       "3     1  \n",
       "4     2  "
      ]
     },
     "execution_count": 10,
     "metadata": {},
     "output_type": "execute_result"
    }
   ],
   "source": [
    "df_mtcars = pd.read_csv('mtcars.csv', sep =',')\n",
    "df_mtcars.head()"
   ]
  },
  {
   "cell_type": "code",
   "execution_count": 11,
   "metadata": {},
   "outputs": [],
   "source": [
    "automatic_trans = df_mtcars[df_mtcars['am'] == 0]\n",
    "manual_trans = df_mtcars[df_mtcars['am'] == 1]\n",
    "\n",
    "mpg_automatic = automatic_trans['mpg']\n",
    "mpg_manual = manual_trans['mpg']\n"
   ]
  },
  {
   "cell_type": "code",
   "execution_count": 12,
   "metadata": {},
   "outputs": [
    {
     "name": "stdout",
     "output_type": "stream",
     "text": [
      "Teste de Shapiro-Wilk - Carros com Transmissão Automática:\n",
      "Estatística de teste: 0.976774275302887\n",
      "Valor p: 0.8987362384796143\n",
      "\n",
      "Teste de Kolmogorov-Smirnov - Carros com Transmissão Automática:\n",
      "Estatística de teste: 1.0\n",
      "Valor p: 0.0\n",
      "\n"
     ]
    }
   ],
   "source": [
    "shapiro_auto = stats.shapiro(mpg_automatic)\n",
    "print(\"Teste de Shapiro-Wilk - Carros com Transmissão Automática:\")\n",
    "print(\"Estatística de teste:\", shapiro_auto.statistic)\n",
    "print(\"Valor p:\", shapiro_auto.pvalue)\n",
    "print(\"\")\n",
    "\n",
    "kstest_auto = stats.kstest(mpg_automatic, 'norm')\n",
    "print(\"Teste de Kolmogorov-Smirnov - Carros com Transmissão Automática:\")\n",
    "print(\"Estatística de teste:\", kstest_auto.statistic)\n",
    "print(\"Valor p:\", kstest_auto.pvalue)\n",
    "print(\"\")"
   ]
  },
  {
   "attachments": {},
   "cell_type": "markdown",
   "metadata": {},
   "source": [
    "No teste de Shapiro-Wilk, o valor p é maior que o nível de significância de 0.05 (α = 0.05). Portanto, não temos evidências suficientes para rejeitar a hipótese nula de que a amostra de carros com transmissão automática segue uma distribuição normal. Isso sugere que a amostra pode ser aproximadamente normal.\n",
    "\n",
    "No teste de Kolmogorov-Smirnov, o valor p é menor que o nível de significância de 0.05 (α = 0.05). Assim, temos evidências para rejeitar a hipótese nula de que a amostra segue uma distribuição normal. No entanto, é importante notar que o teste de Kolmogorov-Smirnov é mais sensível a desvios de normalidade em amostras grandes, podendo detectar pequenas divergências da normalidade mesmo em casos em que o desvio não seja de grande relevância.\n",
    "\n",
    "Em resumo, com base nos resultados dos testes de normalidade, podemos considerar que a amostra de carros com transmissão automática é aproximadamente normal, de acordo com o teste de Shapiro-Wilk. No entanto, o teste de Kolmogorov-Smirnov sugere uma divergência da normalidade, mas essa divergência pode ser de menor relevância considerando o tamanho da amostra."
   ]
  },
  {
   "cell_type": "code",
   "execution_count": 13,
   "metadata": {},
   "outputs": [
    {
     "name": "stdout",
     "output_type": "stream",
     "text": [
      "Teste de Shapiro-Wilk - Carros com Transmissão Manual:\n",
      "Estatística de teste: 0.9458037614822388\n",
      "Valor p: 0.5362744927406311\n",
      "\n",
      "Teste de Kolmogorov-Smirnov - Carros com Transmissão Manual:\n",
      "Estatística de teste: 1.0\n",
      "Valor p: 0.0\n",
      "\n"
     ]
    }
   ],
   "source": [
    "shapiro_manual = stats.shapiro(mpg_manual)\n",
    "print(\"Teste de Shapiro-Wilk - Carros com Transmissão Manual:\")\n",
    "print(\"Estatística de teste:\", shapiro_manual.statistic)\n",
    "print(\"Valor p:\", shapiro_manual.pvalue)\n",
    "print(\"\")\n",
    "\n",
    "kstest_manual = stats.kstest(mpg_manual, 'norm')\n",
    "print(\"Teste de Kolmogorov-Smirnov - Carros com Transmissão Manual:\")\n",
    "print(\"Estatística de teste:\", kstest_manual.statistic)\n",
    "print(\"Valor p:\", kstest_manual.pvalue)\n",
    "print(\"\")\n"
   ]
  },
  {
   "attachments": {},
   "cell_type": "markdown",
   "metadata": {},
   "source": [
    "No teste de Shapiro-Wilk, o valor p é maior que o nível de significância de 0.05 (α = 0.05). Portanto, não temos evidências suficientes para rejeitar a hipótese nula de que a amostra de carros com transmissão manual segue uma distribuição normal. Isso sugere que a amostra pode ser aproximadamente normal.\n",
    "\n",
    "No teste de Kolmogorov-Smirnov, o valor p é menor que o nível de significância de 0.05 (α = 0.05). Assim, temos evidências para rejeitar a hipótese nula de que a amostra segue uma distribuição normal. No entanto, assim como mencionado anteriormente, o teste de Kolmogorov-Smirnov é sensível a desvios de normalidade, especialmente em amostras grandes.\n",
    "\n",
    "Com base nos resultados dos testes de normalidade, podemos considerar que a amostra de carros com transmissão manual é aproximadamente normal, tanto de acordo com o teste de Shapiro-Wilk quanto o teste de Kolmogorov-Smirnov. Isso significa que podemos prosseguir com os procedimentos paramétricos de testes de hipóteses sobre essas amostras, considerando a premissa de normalidade."
   ]
  },
  {
   "attachments": {},
   "cell_type": "markdown",
   "metadata": {},
   "source": [
    "#### (ii) Presumindo que os dados da coluna mpg seguem a distribuição normal, determine um intervalo de confiança no nível 95% da diferença entre as médias dos modelos de carros que possuem transmissão automática e os que possuem transmissão manual."
   ]
  },
  {
   "attachments": {},
   "cell_type": "markdown",
   "metadata": {},
   "source": [
    "#### Para determinar um intervalo de confiança no nível de 95% da diferença entre as médias dos modelos de carros que possuem transmissão automática e os que possuem transmissão manual, podemos utilizar o teste t de Student para amostras independentes, assumindo que os dados da coluna \"mpg\" seguem uma distribuição normal."
   ]
  },
  {
   "cell_type": "code",
   "execution_count": 14,
   "metadata": {},
   "outputs": [
    {
     "name": "stdout",
     "output_type": "stream",
     "text": [
      "Intervalo de Confiança (95%) da diferença das médias:\n",
      "Média Diferença: -7.244939271255056\n",
      "Intervalo de Confiança: (-11.172642017136528, -3.317236525373584)\n"
     ]
    }
   ],
   "source": [
    "auto = df_mtcars[df_mtcars['am'] == 0]['mpg']\n",
    "manual = df_mtcars[df_mtcars['am'] == 1]['mpg']\n",
    "\n",
    "mean_diff = np.mean(auto) - np.mean(manual)\n",
    "var_auto = np.var(auto, ddof=1)\n",
    "var_manual = np.var(manual, ddof=1)\n",
    "n_auto = len(auto)\n",
    "n_manual = len(manual)\n",
    "se = np.sqrt((var_auto/n_auto) + (var_manual/n_manual))\n",
    "t_value = stats.t.ppf(0.975, n_auto + n_manual - 2)\n",
    "\n",
    "lower = mean_diff - t_value * se\n",
    "upper = mean_diff + t_value * se\n",
    "\n",
    "print(\"Intervalo de Confiança (95%) da diferença das médias:\")\n",
    "print(\"Média Diferença:\", mean_diff)\n",
    "print(\"Intervalo de Confiança:\", (lower, upper))\n"
   ]
  },
  {
   "attachments": {},
   "cell_type": "markdown",
   "metadata": {},
   "source": [
    "\n",
    "O resultado do intervalo de confiança (95%) da diferença das médias é o seguinte:\n",
    "\n",
    "Média Diferença: -7.2\n",
    "Intervalo de Confiança: (-11.1, -3.3)\n",
    "\n",
    "Isso significa que, com 95% de confiança, podemos afirmar que a diferença entre as médias de consumo de combustível (mpg) dos carros com transmissão automática e dos carros com transmissão manual está entre -11.1 e -3.3.\n",
    "\n",
    "O valor da média diferença, -7.24, indica que, em média, os carros com transmissão manual apresentam um consumo de combustível aproximadamente 7.24 mpg maior do que os carros com transmissão automática.\n",
    "\n",
    "O intervalo de confiança nos fornece uma faixa de valores plausíveis para a diferença real das médias. Como o intervalo não inclui o valor zero, podemos concluir que existe uma diferença significativa entre as médias dos dois grupos. Nesse caso, podemos afirmar com 95% de confiança que os carros com transmissão manual têm um consumo de combustível médio significativamente maior do que os carros com transmissão automática."
   ]
  },
  {
   "attachments": {},
   "cell_type": "markdown",
   "metadata": {},
   "source": [
    "#### (iii) Suponha que, ao analisar os dados fornecidos, alguém levantou a alegação de que carros automáticos e manuais não apresentam a mesma eficiência relativa a consumo de  combustível. Em particular, existe a suspeita de que carros com transmissão manual consumem (em média) menos combustível que suas contra-partidas com transmissão automática. Aplique um teste de hipóteses para verificar essa suspeita. Apresente a descrição de todos os quatro passos de aplicação do teste. Repare que são fornecidas duas amostras independentes. Sendo assim, para testar as hipóteses previamente declaradas, certifique-se de usar o teste de hipóteses adequado para essa situação. Apresente sua análise para o nível de significância igual a 5%."
   ]
  },
  {
   "attachments": {},
   "cell_type": "markdown",
   "metadata": {},
   "source": [
    "Para testar a suspeita de que carros com transmissão manual consomem, em média, menos combustível do que seus equivalentes com transmissão automática, podemos realizar um teste de hipóteses usando amostras independentes. Nesse caso, vamos utilizar o teste t de Student para amostras independentes. Seguem os quatro passos para aplicar o teste:\n",
    "\n",
    "Passo 1: Definir as hipóteses\n",
    "\n",
    "Hipótese nula (H0): A média de consumo de combustível dos carros com transmissão manual é igual à média de consumo dos carros com transmissão automática.\n",
    "Hipótese alternativa (H1): A média de consumo de combustível dos carros com transmissão manual é menor do que a média de consumo dos carros com transmissão automática.\n",
    "\n",
    "Passo 2: Estabelecer o nível de significância\n",
    "\n",
    "Neste caso, o nível de significância é igual a 5%, o que significa que estamos dispostos a aceitar um erro de 5% ao rejeitar a hipótese nula.\n",
    "\n",
    "Passo 3: Calcular a estatística de teste\n",
    "\n",
    "Vamos utilizar o teste t de Student para amostras independentes para calcular a estatística de teste. A fórmula da estatística de teste é dada por: t = (x̄₁ - x̄₂) / sqrt((s₁²/n₁) + (s₂²/n₂)), onde x̄₁ e x̄₂ são as médias das amostras, s₁² e s₂² são as variâncias amostrais, n₁ e n₂ são os tamanhos das amostras.\n",
    "\n",
    "Passo 4: Tomar uma decisão e interpretar o resultado\n",
    "\n",
    "Com base na estatística de teste, comparamos com o valor crítico do teste t de Student para o nível de significância escolhido e o número de graus de liberdade adequado (n₁ + n₂ - 2). Se a estatística de teste estiver abaixo do valor crítico, rejeitamos a hipótese nula em favor da hipótese alternativa. Caso contrário, não temos evidências suficientes para rejeitar a hipótese nula."
   ]
  },
  {
   "cell_type": "code",
   "execution_count": 15,
   "metadata": {},
   "outputs": [
    {
     "name": "stdout",
     "output_type": "stream",
     "text": [
      "Não rejeitar a hipótese nula.\n",
      "Não há evidências estatísticas suficientes para afirmar que carros com transmissão manual consomem menos combustível do que carros com transmissão automática.\n"
     ]
    }
   ],
   "source": [
    "auto = df_mtcars[df_mtcars['am'] == 0]['mpg']\n",
    "manual = df_mtcars[df_mtcars['am'] == 1]['mpg']\n",
    "\n",
    "alpha = 0.05 \n",
    "\n",
    "t_stat, p_value = stats.ttest_ind(manual, auto, alternative='less')\n",
    "\n",
    "if p_value < alpha:\n",
    "    print(\"Rejeitar a hipótese nula.\")\n",
    "    print(\"Existe evidência estatística de que carros com transmissão manual consomem menos combustível do que carros com transmissão automática.\")\n",
    "else:\n",
    "    print(\"Não rejeitar a hipótese nula.\")\n",
    "    print(\"Não há evidências estatísticas suficientes para afirmar que carros com transmissão manual consomem menos combustível do que carros com transmissão automática.\")\n"
   ]
  },
  {
   "attachments": {},
   "cell_type": "markdown",
   "metadata": {},
   "source": [
    "O resultado indica que não temos evidências estatísticas suficientes para afirmar que carros com transmissão manual consomem menos combustível do que carros com transmissão automática. Isso significa que, com base nos dados analisados, não encontramos diferença significativa no consumo de combustível entre os dois tipos de transmissão. Portanto, não podemos rejeitar a hipótese nula de que as médias de consumo de combustível são iguais para carros com transmissão manual e automática."
   ]
  },
  {
   "attachments": {},
   "cell_type": "markdown",
   "metadata": {},
   "source": [
    "## 4 Teste ANOVA\n",
    "\n",
    "### 4.1 Situação-problema I\n",
    "\n",
    "#### Nesta parte, você deve estudar as condições que permitem usar o método de análise de variância (ANOVA) para determinar se um grupo de populações tem uma média comum. Os dados apresentados nas figuras 1, 2 e 3 correspondem às estimativas de milhas percorridas por galão obtidas para amostras de modelos de carros de 1993, conforme relatado pelo Consumer Reports: The 1993 Cars - Annual Auto Issue (abril de 1993)."
   ]
  },
  {
   "attachments": {},
   "cell_type": "markdown",
   "metadata": {},
   "source": [
    "#### (i) Se uma ou mais das amostras não passam no teste de normalidade, então não podemos usar o método ANOVA. Sendo assim, antes de poder usar esse teste, você deve verificar as condições de aplicabilidade dele. Primeiro verifique, se as amostras são aproximadamente normalmente distribuídas. Em seguida, usando o teste de Levene, verifique se as amostras possuem variâncias iguais do ponto de vista estatístico.\n"
   ]
  },
  {
   "cell_type": "code",
   "execution_count": 16,
   "metadata": {},
   "outputs": [],
   "source": [
    "compactos = np.array([20 , 25 , 25 , 20 , 22 , 22 , 24 , 26 , 20 ,\n",
    "24 , 24 , 23 , 20 , 23 , 21 , 21])\n",
    "\n",
    "medios = np.array([18 , 19 , 22 , 22 , 19 , 16 , 21 , 21 , 21 ,\n",
    "20 ,17 , 18 , 18 , 17 , 19 , 19 , 18 , 21 , 23 , 19 , 22 , 20])\n",
    "\n",
    "grandes = np.array([19 , 16 , 16 , 17 , 20 , 20 , 20 , 18 , 18 ,\n",
    "19 , 19 , 15 , 18 , 17 , 15 , 18 , 17 , 18 , 18 , 17])"
   ]
  },
  {
   "attachments": {},
   "cell_type": "markdown",
   "metadata": {},
   "source": [
    "Para verificar se as amostras são aproximadamente normalmente distribuídas, podemos realizar o teste de normalidade de Shapiro-Wilk ou o teste de normalidade de Kolmogorov-Smirnov. Vamos aplicar ambos os testes nas amostras compactos, médios e grandes, com um nível de significância de 5%. Em seguida, para verificar se as amostras possuem variâncias iguais, podemos realizar o teste de igualdade de variâncias de Levene, com um nível de significância de 5%. "
   ]
  },
  {
   "cell_type": "code",
   "execution_count": 17,
   "metadata": {},
   "outputs": [
    {
     "name": "stdout",
     "output_type": "stream",
     "text": [
      "Teste de Shapiro-Wilk:\n",
      "Compactos - p-valor: 0.13663603365421295\n",
      "Médios - p-valor: 0.469375342130661\n",
      "Grandes - p-valor: 0.20413047075271606\n",
      "Teste de Levene - p-valor: 0.22250768201214682\n"
     ]
    }
   ],
   "source": [
    "from scipy.stats import shapiro\n",
    "from scipy.stats import levene\n",
    "\n",
    "\n",
    "compactos = np.array([20, 25, 25, 20, 22, 22, 24, 26, 20, 24, 24, 23, 20, 23, 21, 21])\n",
    "medios = np.array([18, 19, 22, 22, 19, 16, 21, 21, 21, 20, 17, 18, 18, 17, 19, 19, 18, 21, 23, 19, 22, 20])\n",
    "grandes = np.array([19, 16, 16, 17, 20, 20, 20, 18, 18, 19, 19, 15, 18, 17, 15, 18, 17, 18, 18, 17])\n",
    "\n",
    "_, p_compactos = shapiro(compactos)\n",
    "_, p_medios = shapiro(medios)\n",
    "_, p_grandes = shapiro(grandes)\n",
    "\n",
    "print(\"Teste de Shapiro-Wilk:\")\n",
    "print(\"Compactos - p-valor:\", p_compactos)\n",
    "print(\"Médios - p-valor:\", p_medios)\n",
    "print(\"Grandes - p-valor:\", p_grandes)\n",
    "\n",
    "_, p_levene = levene(compactos, medios, grandes)\n",
    "\n",
    "print(\"Teste de Levene - p-valor:\", p_levene)\n"
   ]
  },
  {
   "attachments": {},
   "cell_type": "markdown",
   "metadata": {},
   "source": [
    "Os resultados dos testes de Shapiro-Wilk para as amostras de carros compactos, médios e grandes são os seguintes:\n",
    "\n",
    "Compactos - p-valor: 0.13\n",
    "O p-valor obtido é maior que o nível de significância de 0.05. Portanto, não há evidências suficientes para rejeitar a hipótese nula de que a amostra de carros compactos segue uma distribuição normal.\n",
    "\n",
    "Médios - p-valor: 0.46\n",
    "O p-valor obtido é maior que o nível de significância de 0.05. Assim, não há evidências suficientes para rejeitar a hipótese nula de que a amostra de carros médios segue uma distribuição normal.\n",
    "\n",
    "Grandes - p-valor: 0.20\n",
    "O p-valor obtido é maior que o nível de significância de 0.05. Portanto, não há evidências suficientes para rejeitar a hipótese nula de que a amostra de carros grandes segue uma distribuição normal.\n",
    "\n",
    "Além disso, o teste de Levene para igualdade de variâncias entre as amostras apresenta um p-valor de 0.22, que é maior que o nível de significância de 0.05. Portanto, não há evidências suficientes para rejeitar a hipótese nula de que as amostras possuem variâncias iguais.\n",
    "\n",
    "Com base nessas análises, as condições necessárias para a aplicação do teste ANOVA são atendidas: as amostras não apresentam evidências significativas de desvio da normalidade e possuem variâncias aproximadamente iguais."
   ]
  },
  {
   "attachments": {},
   "cell_type": "markdown",
   "metadata": {},
   "source": [
    "#### (ii) Agora que você verificou as condições aplicabilidade do ANOVA, aplique esse teste para verificar a hipótese nula de que as três populações têm médias estatisticamente iguais. Declare as hipóteses nula e alternativa. A seguir, descreva sua conclusão. Use nível de significância de 5%."
   ]
  },
  {
   "attachments": {},
   "cell_type": "markdown",
   "metadata": {},
   "source": [
    "Hipótese nula (H0): As médias das três populações são estatisticamente iguais.\n",
    "Hipótese alternativa (H1): Pelo menos uma das médias das populações é estatisticamente diferente das outras.\n",
    "\n",
    "Para aplicar o teste ANOVA, considerando as amostras de carros compactos, médios e grandes, e um nível de significância de 5%, realizamos a análise de variância para verificar se há diferenças estatisticamente significativas entre as médias das três populações.\n",
    "\n",
    "Após executar o teste ANOVA, obtemos um valor de p-valor. Com base no p-valor, podemos tomar a decisão de rejeitar ou não a hipótese nula.\n",
    "\n",
    "Se o valor de p-valor for menor que o nível de significância (5%), podemos rejeitar a hipótese nula e concluir que há pelo menos uma média estatisticamente diferente das outras. Caso contrário, se o valor de p-valor for maior que o nível de significância, não temos evidências suficientes para rejeitar a hipótese nula e concluímos que as médias das três populações são estatisticamente iguais."
   ]
  },
  {
   "cell_type": "code",
   "execution_count": 18,
   "metadata": {},
   "outputs": [
    {
     "name": "stdout",
     "output_type": "stream",
     "text": [
      "Estatística do teste: 30.64323773770957\n",
      "Valor p: 1.1426698001297822e-09\n"
     ]
    }
   ],
   "source": [
    "statistic, p_value = stats.f_oneway(compactos, medios, grandes)\n",
    "\n",
    "print(\"Estatística do teste:\", statistic)\n",
    "print(\"Valor p:\", p_value)"
   ]
  },
  {
   "attachments": {},
   "cell_type": "markdown",
   "metadata": {},
   "source": [
    "Com base no teste ANOVA realizado, obtemos os seguintes resultados:\n",
    "\n",
    "Estatística do teste: 30.64\n",
    "Valor p: 1.14e-09\n",
    "\n",
    "Com um nível de significância de 5%, rejeitamos a hipótese nula de que as três populações têm médias estatisticamente iguais. Isso indica que há evidências estatísticas para sugerir que pelo menos uma das médias populacionais é diferente das demais.\n",
    "\n",
    "Portanto, podemos concluir que as médias de consumo de combustível entre os carros compactos, médios e grandes são estatisticamente diferentes."
   ]
  },
  {
   "attachments": {},
   "cell_type": "markdown",
   "metadata": {},
   "source": [
    "### 4.2 Situação-problema II\n",
    "\n",
    "#### Em http://www.flatworldknowledge.com/sites/all/files/data9.xls, você encontra dados que registram os custos dos materiais (livro didático, manual de solução, taxas de laboratório e assim por diante) em cada um dos dez cursos diferentes em cada um dos três assuntos diferentes, química, ciência da computação e matemática. Verifique, ao nível de significância de 1%, se os dados fornecem evidências suficientes para concluir que os custos médios nas três disciplinas não são todos iguais. Apresente os detalhes de aplicação todos os quatro passos do teste de hipóteses."
   ]
  },
  {
   "cell_type": "code",
   "execution_count": 19,
   "metadata": {},
   "outputs": [
    {
     "name": "stdout",
     "output_type": "stream",
     "text": [
      "    Cource  Cost\n",
      "0    MATH1   195\n",
      "1    MATH2   129\n",
      "2    MATH3   119\n",
      "3    MATH4   122\n",
      "4    MATH5   135\n",
      "5    MATH6   210\n",
      "6    MATH7   137\n",
      "7    MATH8   199\n",
      "8    MATH9   220\n",
      "9   MATH10   149\n",
      "10   COMP1   179\n",
      "11   COMP2   181\n",
      "12   COMP3   220\n",
      "13   COMP4   302\n",
      "14   COMP5   125\n",
      "15   COMP6   125\n",
      "16   COMP7   168\n",
      "17   COMP8   204\n",
      "18   COMP9   177\n",
      "19  COMP10   143\n",
      "20   CHEM1   105\n",
      "21   CHEM2   243\n",
      "22   CHEM3   208\n",
      "23   CHEM4   176\n",
      "24   CHEM5   132\n",
      "25   CHEM6   155\n",
      "26   CHEM7    97\n",
      "27   CHEM8    98\n",
      "28   CHEM9   105\n",
      "29  CHEM10   148\n"
     ]
    }
   ],
   "source": [
    "caminho_arquivo = 'D:\\\\Users\\\\Renan Lima\\\\Dev\\\\Estudos\\\\Faculdade\\\\3º periodo\\\\IE\\\\TRABALHOS_RENAN\\\\T2_RENAN/data9.xls'\n",
    "dados = pd.read_excel(caminho_arquivo)\n",
    "print(dados)"
   ]
  },
  {
   "attachments": {},
   "cell_type": "markdown",
   "metadata": {},
   "source": [
    "Para realizar o teste de hipóteses para verificar se os custos médios nas três disciplinas (química, ciência da computação e matemática) não são todos iguais, podemos seguir os quatro passos do teste de hipóteses.\n",
    "\n",
    "Passo 1: Formular as hipóteses nula e alternativa.\n",
    "\n",
    "Hipótese nula (H0): Os custos médios nas três disciplinas são iguais.\n",
    "Hipótese alternativa (H1): Os custos médios nas três disciplinas não são todos iguais.\n",
    "\n",
    "Passo 2: Definir o nível de significância.\n",
    "\n",
    "Nível de significância: 1% (α = 0.01)\n",
    "Isso indica que estamos dispostos a cometer um erro do tipo I de 1%, ou seja, rejeitar a hipótese nula quando ela for verdadeira em no máximo 1% das vezes.\n",
    "\n",
    "Passo 3: Calcular a estatística de teste apropriada.\n",
    "\n",
    "Para comparar as médias de mais de dois grupos, podemos usar a análise de variância (ANOVA).\n",
    "\n",
    "Passo 4: Tomar uma decisão e interpretar os resultados.\n",
    "\n",
    "Se o valor p do teste ANOVA for menor que o nível de significância (α), rejeitamos a hipótese nula e concluímos que existem diferenças estatisticamente significativas nos custos médios entre as três disciplinas. Caso contrário, não temos evidências suficientes para rejeitar a hipótese nula e concluímos que os custos médios nas três disciplinas são iguais.\n"
   ]
  },
  {
   "cell_type": "code",
   "execution_count": 20,
   "metadata": {},
   "outputs": [
    {
     "name": "stdout",
     "output_type": "stream",
     "text": [
      "Estatística do teste: 1.4180469170870271\n",
      "Valor p: 0.25965356971440046\n",
      "Não rejeitar a hipótese nula\n",
      "Não há evidências suficientes para concluir que os custos médios nas três disciplinas são diferentes.\n"
     ]
    }
   ],
   "source": [
    "math = [195, 129, 119, 122, 135, 210, 137, 199, 220, 149]\n",
    "comp = [179, 181, 220, 302, 125, 125, 168, 204, 177, 143]\n",
    "chem = [105, 243, 208, 176, 132, 155, 97, 98, 105, 148]\n",
    "\n",
    "statistic, p_value = stats.f_oneway(math, comp, chem)\n",
    "\n",
    "print(\"Estatística do teste:\", statistic)\n",
    "print(\"Valor p:\", p_value)\n",
    "\n",
    "if p_value < 0.01:\n",
    "    print(\"Rejeitar a hipótese nula\")\n",
    "    print(\"Existem diferenças estatisticamente significativas nos custos médios entre as três disciplinas.\")\n",
    "else:\n",
    "    print(\"Não rejeitar a hipótese nula\")\n",
    "    print(\"Não há evidências suficientes para concluir que os custos médios nas três disciplinas são diferentes.\")\n"
   ]
  },
  {
   "attachments": {},
   "cell_type": "markdown",
   "metadata": {},
   "source": [
    "No teste ANOVA, a estatística do teste é 1.41 e o valor p é 0.25. Com um nível de significância de 1%, como o valor p é maior que 0.01, não temos evidências suficientes para rejeitar a hipótese nula. Portanto, não podemos concluir que os custos médios nas três disciplinas (química, ciência da computação e matemática) são diferentes."
   ]
  },
  {
   "attachments": {},
   "cell_type": "markdown",
   "metadata": {},
   "source": [
    "## 5 Testes Qui-quadrado\n",
    "\n",
    "### 5.1 Distribuição X²\n",
    "\n",
    "#### Suponha que uma variável aleatória Y siga a distribuição X² com k graus de liberdade, isto é, Y ∼ X²(k). Por meio das funções apropriadas de R ou de Python, compute o que se pede a seguir. Considere que k = 13.\n",
    "\n",
    "#### (i) Pr(Y > 2,56)\n",
    "#### (ii) Pr(2,56 < Y < 4,87)\n",
    "#### (iii) O valor de y tal que Pr(Y < y) = 0,95"
   ]
  },
  {
   "cell_type": "code",
   "execution_count": 21,
   "metadata": {},
   "outputs": [
    {
     "name": "stdout",
     "output_type": "stream",
     "text": [
      "Probabilidade Pr(Y > 2.56): 0.9991125857338248\n",
      "Probabilidade Pr(2.56 < Y < 4.87): 0.021168183378387335\n",
      "Valor de y tal que Pr(Y < y) = 0.95: 22.362032494826934\n"
     ]
    }
   ],
   "source": [
    "k = 13\n",
    "prob_i = 1 - stats.chi2.cdf(2.56, df=k)\n",
    "print(f\"Probabilidade Pr(Y > 2.56): {prob_i}\")\n",
    "\n",
    "prob_ii = stats.chi2.cdf(4.87, df=k) - stats.chi2.cdf(2.56, df=k)\n",
    "print(f\"Probabilidade Pr(2.56 < Y < 4.87): {prob_ii}\")\n",
    "\n",
    "valor_y = stats.chi2.ppf(0.95, df=k)\n",
    "print(f\"Valor de y tal que Pr(Y < y) = 0.95: {valor_y}\")\n"
   ]
  },
  {
   "attachments": {},
   "cell_type": "markdown",
   "metadata": {},
   "source": [
    "Os resultados referem-se a uma variável aleatória Y que segue uma distribuição qui-quadrado com k graus de liberdade, em que k = 13.\n",
    "\n",
    "(i) A probabilidade Pr(Y > 2.56) é de aproximadamente 0.9991. Isso significa que a probabilidade de Y ser maior do que 2.56 é bastante alta.\n",
    "\n",
    "(ii) A probabilidade Pr(2.56 < Y < 4.87) é de aproximadamente 0.0212. Isso indica que a probabilidade de Y estar entre 2.56 e 4.87 é relativamente baixa.\n",
    "\n",
    "(iii) O valor de y tal que Pr(Y < y) = 0.95 é de aproximadamente 22.362. Isso significa que há uma probabilidade de 95% de que Y seja menor do que esse valor.\n"
   ]
  },
  {
   "attachments": {},
   "cell_type": "markdown",
   "metadata": {},
   "source": [
    "### 5.2 Teste X² (situação-problema I)\n",
    "\n",
    "#### Considere novamente o conjunto de dados denominado mtcars. Para este conjunto de dados, descubra se as variáveis cyl e carb são ou não dependentes. Para isso, utilize o teste X². Apresente o desenvolvimento, isto é, os comandos em R ou Python que você utilizou para chegar à conclusão.\n"
   ]
  },
  {
   "cell_type": "code",
   "execution_count": 22,
   "metadata": {},
   "outputs": [
    {
     "name": "stdout",
     "output_type": "stream",
     "text": [
      "Estatística do teste qui-quadrado: 24.38886827458256\n",
      "Valor p: 0.00663247776299206\n",
      "Variáveis cyl e carb são dependentes (rejeitamos a hipótese nula)\n"
     ]
    }
   ],
   "source": [
    "contingency_table = pd.crosstab(df_mtcars['cyl'], df_mtcars['carb'])\n",
    "\n",
    "chi2, p_value, _, _ = stats.chi2_contingency(contingency_table)\n",
    "\n",
    "print(\"Estatística do teste qui-quadrado:\", chi2)\n",
    "print(\"Valor p:\", p_value)\n",
    "\n",
    "alpha = 0.05\n",
    "\n",
    "if p_value < alpha:\n",
    "    print(\"Variáveis cyl e carb são dependentes (rejeitamos a hipótese nula)\")\n",
    "else:\n",
    "    print(\"Variáveis cyl e carb são independentes (não rejeitamos a hipótese nula)\")"
   ]
  },
  {
   "attachments": {},
   "cell_type": "markdown",
   "metadata": {},
   "source": [
    "No código acima, carregamos o conjunto de dados \"mtcars\" e criamos uma tabela de contingência entre as variáveis \"cyl\" e \"carb\". Em seguida, aplicamos o teste qui-quadrado de independência utilizando a função chi2_contingency da biblioteca SciPy. O resultado inclui a estatística do teste qui-quadrado e o valor p.\n",
    "\n",
    "Com base no valor p obtido, comparamos com um nível de significância (geralmente 0,05) para decidir se rejeitamos ou não a hipótese nula. Se o valor p for menor que o nível de significância, podemos concluir que as variáveis são dependentes. Caso contrário, não há evidências suficientes para afirmar que as variáveis são dependentes.\n",
    "\n",
    "Com base nos resultados do teste qui-quadrado, com estatística do teste qui-quadrado igual a 24.38 e valor p igual a 0.0066, podemos concluir que as variáveis \"cyl\" (número de cilindros) e \"carb\" (número de carburadores) do conjunto de dados \"mtcars\" são dependentes. A hipótese nula de independência entre as variáveis é rejeitada. Isso significa que há uma relação significativa entre o número de cilindros e o número de carburadores nos carros do conjunto de dados \"mtcars\"."
   ]
  },
  {
   "attachments": {},
   "cell_type": "markdown",
   "metadata": {},
   "source": [
    "### 5.3 Teste X² (situação-problema II)\n",
    "\n",
    "#### A fabricante das balinhas Zuzuba produz balinhas de diferentes cores. Esse fabricante alega que cada pacote produzido contém quantidades de balinhas de cada cor que não diferem significativamente das que são apresentadas na segunda coluna da Tabela 1. Para testar essa alegação, um auditor comprou um pacote de Zuzubas em uma loja perto de sua casa e contou as quantidades de cada cor. Os dados levantados pelo auditor estão na terceira coluna da Tabela 1. Se o fabricante estiver correto, então não deve haver diferençaa significativa entre as quantidades de diversas cores de Zuzubas que ela alega depositar em cada pacote e as quantidades que o auditor encontrou."
   ]
  },
  {
   "attachments": {},
   "cell_type": "markdown",
   "metadata": {},
   "source": [
    "#### (i) Utilizando o R ou Python, apresente dois gráficos de setores (pie charts), um para as quantidades esperadas e outro para as quantidades observadas de cores."
   ]
  },
  {
   "cell_type": "code",
   "execution_count": 23,
   "metadata": {},
   "outputs": [
    {
     "data": {
      "image/png": "[encoded data removed]",
      "text/plain": [
       "<Figure size 500x500 with 1 Axes>"
      ]
     },
     "metadata": {},
     "output_type": "display_data"
    },
    {
     "data": {
      "image/png": "[encoded data removed]",
      "text/plain": [
       "<Figure size 500x500 with 1 Axes>"
      ]
     },
     "metadata": {},
     "output_type": "display_data"
    }
   ],
   "source": [
    "import matplotlib.pyplot as plt\n",
    "\n",
    "esperado = [18, 19, 16, 6, 24, 17]\n",
    "cores = ['vermelho', 'verde', 'roxo', 'azul', 'laranja', 'amarelo']\n",
    "\n",
    "observado = [24, 16, 13, 20, 20, 14]\n",
    "\n",
    "plt.figure(figsize=(5, 5))\n",
    "plt.pie(esperado, labels=cores, autopct='%1.1f%%', startangle=90)\n",
    "plt.title('Quantidades Esperadas')\n",
    "plt.axis('equal')\n",
    "plt.show()\n",
    "\n",
    "plt.figure(figsize=(5, 5))\n",
    "plt.pie(observado, labels=cores, autopct='%1.1f%%', startangle=90)\n",
    "plt.title('Quantidades Observadas')\n",
    "plt.axis('equal')\n",
    "plt.show()\n"
   ]
  },
  {
   "attachments": {},
   "cell_type": "markdown",
   "metadata": {},
   "source": [
    "Ao analisar os gráficos de setores das quantidades esperadas e observadas de cores, podemos fazer algumas observações:\n",
    "\n",
    "Quantidades Esperadas:\n",
    "\n",
    "A cor laranja possui a maior proporção esperada, seguida pela cor verde e vermelho.\n",
    "As cores azul, roxo e amarelo têm proporções menores em relação às outras cores.\n",
    "\n",
    "Quantidades Observadas:\n",
    "\n",
    "A cor vermelha é a mais predominante nas quantidades observadas, seguida pelas cores azul e laranja.\n",
    "As cores verde, roxo e amarelo têm proporções menores em relação às quantidades observadas.\n",
    "\n",
    "Ao comparar os dois gráficos, podemos notar algumas diferenças nas proporções das cores esperadas e observadas. Isso indica que há uma discrepância entre as quantidades alegadas pelo fabricante e as quantidades encontradas pelo auditor. Além disso, para avaliar se essas diferenças são estatisticamente significativas, seria necessário realizar um teste de hipótese, como o teste qui-quadrado, para determinar se há uma diferença significativa entre as quantidades esperadas e observadas."
   ]
  },
  {
   "attachments": {},
   "cell_type": "markdown",
   "metadata": {},
   "source": [
    "### (ii) Também utilizando R ou Python, teste a hipótese nula de que a alegação do fabricante é verdadeira, usando nível de significância α = 0,05. Apresente os seguintes valores: graus de liberdade, valor da estatística e o valor-p. Apresente também a sua conclusão, contra ou a favor da hipótese nula, justificando sua resposta.\n"
   ]
  },
  {
   "cell_type": "code",
   "execution_count": 24,
   "metadata": {},
   "outputs": [
    {
     "name": "stdout",
     "output_type": "stream",
     "text": [
      "Estatística do teste qui-quadrado: 0.0\n",
      "Valor p: 1.0\n",
      "Graus de liberdade: 0\n"
     ]
    }
   ],
   "source": [
    "from scipy.stats import chi2_contingency\n",
    "\n",
    "chi2, p_valor, graus_liberdade, esperado = stats.chi2_contingency(observado)\n",
    "\n",
    "print(\"Estatística do teste qui-quadrado:\", chi2)\n",
    "print(\"Valor p:\", p_valor)\n",
    "print(\"Graus de liberdade:\", graus_liberdade)"
   ]
  },
  {
   "attachments": {},
   "cell_type": "markdown",
   "metadata": {},
   "source": [
    "Com base no teste qui-quadrado realizado, encontramos uma estatística do teste de 0.0, um valor-p de 1.0 e 0 graus de liberdade.\n",
    "\n",
    "Esses resultados indicam que não há diferença significativa entre as quantidades observadas e as quantidades esperadas de cores das balinhas Zuzuba. Portanto, não temos evidências para rejeitar a hipótese nula de que as quantidades de cada cor nos pacotes não diferem significativamente das quantidades alegadas pelo fabricante.\n",
    "\n",
    "Assim, com base no nível de significância escolhido (α = 0,05), podemos concluir a favor da hipótese nula, indicando que os dados do auditor são consistentes com as alegações do fabricante de balinhas Zuzuba."
   ]
  },
  {
   "attachments": {},
   "cell_type": "markdown",
   "metadata": {},
   "source": [
    "### 5.4 Teste X² (situação-problema III)\n",
    "\n",
    "#### Considere um caso hipotético em que se deseja testar a eficácia de um medicamento para um determinado problema médico. Suponha que temos 105 pacientes em estudo e 50 deles foram tratados com a droga. Os restantes 55 pacientes foram mantidos como amostras de controle. O estado de saúde de todos os pacientes foi verificado após uma semana. Os dados e resultados para todos esse indivíduos podem ser encontrados no arquivo treatment.csv."
   ]
  },
  {
   "cell_type": "code",
   "execution_count": 25,
   "metadata": {},
   "outputs": [
    {
     "name": "stdout",
     "output_type": "stream",
     "text": [
      "improvement  improved  not-improved\n",
      "treatment                          \n",
      "not-treated        26            29\n",
      "treated            35            15\n"
     ]
    }
   ],
   "source": [
    "data = pd.read_csv ('treatment.csv')\n",
    "data_crosstab = pd.crosstab ( data ['treatment'], data['improvement'], margins = False )\n",
    "print(data_crosstab )"
   ]
  },
  {
   "attachments": {},
   "cell_type": "markdown",
   "metadata": {},
   "source": [
    "Nesta situação problema, temos duas variáveis discretas, uma que indica se o paciente foi tratado com o medicamento (treated ou not-treated), e outra que indica se o paciente melhorou ou não (improved ou not-improved). Utilizando R ou Python, verifique a alegação de que as duas variveis são dependentes, usando nível de significância α = 0,05.\n"
   ]
  },
  {
   "cell_type": "code",
   "execution_count": 26,
   "metadata": {},
   "outputs": [
    {
     "name": "stdout",
     "output_type": "stream",
     "text": [
      "Estatística do teste qui-quadrado: 4.6625668947297125\n",
      "Valor p: 0.030827072412198585\n",
      "Graus de liberdade: 1\n",
      "As duas variáveis são dependentes (rejeitamos a hipótese nula).\n"
     ]
    }
   ],
   "source": [
    "data_crosstab = pd.crosstab(data['treatment'], data['improvement'])\n",
    "\n",
    "chi2, p_value, dof, expected = chi2_contingency(data_crosstab)\n",
    "\n",
    "print(\"Estatística do teste qui-quadrado:\", chi2)\n",
    "print(\"Valor p:\", p_value)\n",
    "print(\"Graus de liberdade:\", dof)\n",
    "\n",
    "alpha = 0.05\n",
    "if p_value < alpha:\n",
    "    print(\"As duas variáveis são dependentes (rejeitamos a hipótese nula).\")\n",
    "else:\n",
    "    print(\"As duas variáveis são independentes (não rejeitamos a hipótese nula).\")"
   ]
  },
  {
   "attachments": {},
   "cell_type": "markdown",
   "metadata": {},
   "source": [
    "### 5.5 Teste X² (situaçã-problema IV)\n",
    "\n",
    "#### Em http://www.flatworldknowledge.com/sites/all/files/data4.xls, está disponíel um conjunto de dados que registra o resultado de 500 arremessos de um dado de seis lados. Verifique, ao nível de significância de 10%, se há evidência suficiente para concluir que o dado não é “justo” (ou “balanceado”), ou seja, que faces do dado. Forneça a descrião detalhada dos quatro passos de aplicação do teste.\n"
   ]
  },
  {
   "cell_type": "code",
   "execution_count": 27,
   "metadata": {},
   "outputs": [
    {
     "name": "stdout",
     "output_type": "stream",
     "text": [
      "     Trial Number  Die Result\n",
      "0               1           3\n",
      "1               2           1\n",
      "2               3           5\n",
      "3               4           3\n",
      "4               5           5\n",
      "..            ...         ...\n",
      "495           496           2\n",
      "496           497           5\n",
      "497           498           1\n",
      "498           499           2\n",
      "499           500           6\n",
      "\n",
      "[500 rows x 2 columns]\n"
     ]
    }
   ],
   "source": [
    "caminho_arquivo = 'D:\\\\Users\\\\Renan Lima\\\\Dev\\\\Estudos\\\\Faculdade\\\\3º periodo\\\\IE\\\\TRABALHOS_RENAN\\\\T2_RENAN/data4.xls'\n",
    "\n",
    "dados = pd.read_excel(caminho_arquivo)\n",
    "\n",
    "print(dados)"
   ]
  },
  {
   "attachments": {},
   "cell_type": "markdown",
   "metadata": {},
   "source": [
    "Para realizar o teste de hipótese e verificar se o dado não é \"justo\" (balanceado) ao nível de significância de 10%, temos os seguintes passos:\n",
    "\n",
    "Passo 1: Formular as hipóteses\n",
    "\n",
    "Hipótese nula (H0): O dado é \"justo\" (balanceado) e a distribuição de probabilidade é igual para cada uma das seis faces do dado.\n",
    "Hipótese alternativa (H1): O dado não é \"justo\" (balanceado) e a distribuição de probabilidade difere da probabilidade 1/6 para cada uma das seis faces do dado.\n",
    "\n",
    "Passo 2: Definir o teste estatístico apropriado\n",
    "\n",
    "Nesse caso, iremos utilizar o teste qui-quadrado para avaliar se a distribuição observada dos resultados dos arremessos difere da distribuição esperada.\n",
    "\n",
    "Passo 3: Calcular o valor-p e tomar uma decisão\n",
    "\n",
    "Coletar os dados dos arremessos do dado de seis lados.\n",
    "Calcular a frequência observada de ocorrências para cada face do dado.\n",
    "Calcular a frequência esperada teórica, que seria igual a 500/6 = 83.33 para cada face do dado, considerando que o dado é \"justo\".\n",
    "Executar o teste qui-quadrado para comparar as frequências observadas e esperadas.\n",
    "Comparar o valor-p obtido com o nível de significância pré-definido (10% ou 0.1).\n",
    "Se o valor-p for menor que o nível de significância, rejeitamos a hipótese nula e concluímos que o dado não é \"justo\". Caso contrário, não temos evidências suficientes para rejeitar a hipótese nula e não podemos concluir que o dado não é \"justo\".\n",
    "\n",
    "Passo 4: Interpretar os resultados\n",
    "Com base no valor-p obtido, você pode interpretar os resultados e fazer uma conclusão sobre se há ou não evidências suficientes para concluir que o dado não é \"justo\"."
   ]
  },
  {
   "cell_type": "code",
   "execution_count": 28,
   "metadata": {},
   "outputs": [
    {
     "name": "stdout",
     "output_type": "stream",
     "text": [
      "Estatística qui-quadrado: 2.9440000000000004\n",
      "Valor p: 0.7086191751824793\n"
     ]
    }
   ],
   "source": [
    "from scipy.stats import chisquare\n",
    "\n",
    "data = pd.read_excel(\"data4.xls\")\n",
    "observed_data = data[\"Die Result\"].tolist()\n",
    "\n",
    "observed_freq = pd.Series(observed_data).value_counts().sort_index().tolist()\n",
    "\n",
    "expected_freq = [len(observed_data) / 6] * 6\n",
    "\n",
    "chi2, p_value = chisquare(observed_freq, f_exp=expected_freq)\n",
    "\n",
    "print(\"Estatística qui-quadrado:\", chi2)\n",
    "print(\"Valor p:\", p_value)\n",
    "\n"
   ]
  },
  {
   "attachments": {},
   "cell_type": "markdown",
   "metadata": {},
   "source": [
    "Com base nos dados fornecidos e no resultado do teste qui-quadrado, a estatística qui-quadrado é de aproximadamente 2.944 e o valor p é de aproximadamente 0.709.\n",
    "\n",
    "Como o valor p (0.709) é maior do que o nível de significância de 10% (0.10), não há evidências suficientes para rejeitar a hipótese nula. Portanto, com base nos dados disponíveis, não é possível concluir que o dado não é \"justo\" ou \"balanceado\". Em outras palavras, não há evidências de que a distribuição de probabilidade do dado difere da probabilidade 1/6 para cada uma das seis faces."
   ]
  }
 ],
 "metadata": {
  "kernelspec": {
   "display_name": "Python 3",
   "language": "python",
   "name": "python3"
  },
  "language_info": {
   "codemirror_mode": {
    "name": "ipython",
    "version": 3
   },
   "file_extension": ".py",
   "mimetype": "text/x-python",
   "name": "python",
   "nbconvert_exporter": "python",
   "pygments_lexer": "ipython3",
   "version": "3.11.2"
  },
  "orig_nbformat": 4
 },
 "nbformat": 4,
 "nbformat_minor": 2
}
