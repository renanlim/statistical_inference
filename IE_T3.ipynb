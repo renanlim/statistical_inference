{
  "cells": [
    {
      "attachments": {},
      "cell_type": "markdown",
      "metadata": {
        "id": "JHCnNujorO6F"
      },
      "source": [
        "# TRABALHO 03 - INFERÊNCIA ESTATÍSTICA\n",
        "\n",
        "## Bibliotecas importadas:"
      ]
    },
    {
      "cell_type": "code",
      "execution_count": 43,
      "metadata": {
        "id": "W5pD0maurcfA"
      },
      "outputs": [],
      "source": [
        "import pandas as pd\n",
        "import numpy as np\n",
        "import scipy.stats as stats\n",
        "from sklearn.utils import resample\n",
        "import random"
      ]
    },
    {
      "attachments": {},
      "cell_type": "markdown",
      "metadata": {
        "id": "VQFMp1iorfxD"
      },
      "source": [
        "## 1 Teste de Permutação I\n",
        "\n",
        "#### A Figura 1 apresenta os resultados de um experimento no qual 7 de 16 camundongos foram selecionados aleatoriamente para receber um novo tratamento médico, enquanto os outros 9 foram designados para o grupo de controle sem tratamento. O objetivo do tratamento era prolongar a sobrevivência após uma cirurgia de teste. Especificamente, a coluna \"Data\" mostra o tempo de sobrevivência após a cirurgia, em dias, para todos os 16 camundongos. A figura também apresenta o tamanho da amostra, a média e o desvio padrão para cada grupo.\n",
        "\n",
        "#### Para investigar se o tratamento prolongou a sobrevivência, utilizaremos o teste de permutação com um nível de significância de 5%. Vamos declarar as hipóteses, descrever como calcular a estatística de teste e o p-valor, e, por fim, apresentar nossa conclusão"
      ]
    },
    {
      "attachments": {},
      "cell_type": "markdown",
      "metadata": {
        "id": "SwxsFXmtriqm"
      },
      "source": [
        "Utilizaremos o teste de permutação para responder à seguinte pergunta de pesquisa (com um nível de significância de 5%): O tratamento prolongou a sobrevivência?\n",
        "\n",
        "Aqui estão as etapas para realizar o teste de permutação:\n",
        "\n",
        "Hipóteses:\n",
        "\n",
        "Hipótese nula (H0): O tratamento não prolonga a sobrevivência; não há diferença significativa entre o grupo de tratamento e o grupo de controle.\n",
        "Hipótese alternativa (Ha): O tratamento prolonga a sobrevivência; há uma diferença significativa entre o grupo de tratamento e o grupo de controle.\n",
        "Cálculo da estatística de teste:\n",
        "\n",
        "Vamos usar a diferença nas médias como nossa estatística de teste. Calculamos a diferença entre as médias do grupo de tratamento e do grupo de controle.\n",
        "Permutação:\n",
        "\n",
        "Misturamos aleatoriamente as observações dos dois grupos e calculamos a diferença nas médias. Repetimos esse processo muitas vezes (por exemplo, 10.000 vezes) para criar uma distribuição nula das diferenças nas médias.\n",
        "Cálculo do p-valor:\n",
        "\n",
        "O p-valor é a proporção de permutações em que a diferença nas médias foi maior ou igual à diferença observada nos dados originais.\n",
        "Conclusão:\n",
        "\n",
        "Se o p-valor for menor que o nível de significância (5%), rejeitamos a hipótese nula e concluímos que o tratamento prolonga a sobrevivência. Caso contrário, não temos evidências suficientes para rejeitar a hipótese nula e afirmar que o tratamento tem um efeito significativo na sobrevivência."
      ]
    },
    {
      "cell_type": "code",
      "execution_count": 6,
      "metadata": {
        "colab": {
          "base_uri": "https://localhost:8080/"
        },
        "id": "f5RjbMIArsKQ",
        "outputId": "9d4ff13e-035e-44e0-e4b2-e44d2118f68c"
      },
      "outputs": [
        {
          "name": "stdout",
          "output_type": "stream",
          "text": [
            "Média tratamento: 86.85714285714286\n",
            "Média controle: 56.22222222222222\n",
            "Diferença observada: 30.63492063492064\n",
            "P-valor: 0.269\n"
          ]
        }
      ],
      "source": [
        "# Dados observados\n",
        "tratamento = np.array([94, 38, 23, 197, 16, 99, 141])\n",
        "controle = np.array([52, 10, 40, 104, 146, 50, 31, 27, 46])\n",
        "\n",
        "# Diferença observada\n",
        "diferenca_obs = np.mean(tratamento) - np.mean(controle)\n",
        "\n",
        "# Número de permutações\n",
        "num_permutacoes = 10000\n",
        "\n",
        "# Estatística de teste\n",
        "estatistica_teste = np.abs(np.mean(tratamento) - np.mean(controle))\n",
        "\n",
        "# Concatenar os dados dos grupos\n",
        "dados_concatenados = np.concatenate((tratamento, controle))\n",
        "\n",
        "# Inicializar o vetor para armazenar as permutações\n",
        "permutacoes = np.zeros(num_permutacoes)\n",
        "\n",
        "# Realizar as permutações\n",
        "for i in range(num_permutacoes):\n",
        "    np.random.shuffle(dados_concatenados)\n",
        "    permutacao_tratamento = dados_concatenados[:len(tratamento)]\n",
        "    permutacao_controle = dados_concatenados[len(tratamento):]\n",
        "    permutacoes[i] = np.abs(np.mean(permutacao_tratamento) - np.mean(permutacao_controle))\n",
        "\n",
        "# Calcular o p-valor\n",
        "p_valor = np.sum(permutacoes >= estatistica_teste) / num_permutacoes\n",
        "\n",
        "# Imprimir os resultados\n",
        "print(\"Média tratamento:\", np.mean(tratamento))\n",
        "print(\"Média controle:\", np.mean(controle))\n",
        "print(\"Diferença observada:\", diferenca_obs)\n",
        "print(\"P-valor:\", p_valor)"
      ]
    },
    {
      "attachments": {},
      "cell_type": "markdown",
      "metadata": {
        "id": "rOg1X44WuSi9"
      },
      "source": [
        "Com base nos resultados do teste de permutação, se o p-valor for menor que o nível de significância escolhido (5%), rejeitaremos a hipótese nula e concluiremos que há evidências estatísticas para afirmar que o tratamento prolonga a sobrevivência dos camundongos. Caso contrário, não teremos evidências suficientes para rejeitar a hipótese nula e concluiremos que o tratamento não apresenta efeito significativo na sobrevivência dos camundongos.Como o p-valor (0.2855) é maior que o nível de significância de 5%, não temos evidências estatísticas suficientes para rejeitar a hipótese nula. Portanto, não podemos concluir com confiança que o tratamento prolonga a sobrevivência dos camundongos."
      ]
    },
    {
      "attachments": {},
      "cell_type": "markdown",
      "metadata": {
        "id": "yjc0WOO4ucJ0"
      },
      "source": [
        "## 2 Bootstrap I"
      ]
    },
    {
      "cell_type": "code",
      "execution_count": 23,
      "metadata": {
        "colab": {
          "base_uri": "https://localhost:8080/",
          "height": 206
        },
        "id": "rkDhEr1Ou1wL",
        "outputId": "e2b8f194-24fd-4454-b4a3-61524bdb76d5"
      },
      "outputs": [
        {
          "data": {
            "text/html": [
              "\n",
              "  <div id=\"df-aac130f9-7e7b-4efe-bd83-6d7fbde79126\">\n",
              "    <div class=\"colab-df-container\">\n",
              "      <div>\n",
              "<style scoped>\n",
              "    .dataframe tbody tr th:only-of-type {\n",
              "        vertical-align: middle;\n",
              "    }\n",
              "\n",
              "    .dataframe tbody tr th {\n",
              "        vertical-align: top;\n",
              "    }\n",
              "\n",
              "    .dataframe thead th {\n",
              "        text-align: right;\n",
              "    }\n",
              "</style>\n",
              "<table border=\"1\" class=\"dataframe\">\n",
              "  <thead>\n",
              "    <tr style=\"text-align: right;\">\n",
              "      <th></th>\n",
              "      <th>Unnamed: 0</th>\n",
              "      <th>crim</th>\n",
              "      <th>zn</th>\n",
              "      <th>indus</th>\n",
              "      <th>chas</th>\n",
              "      <th>nox</th>\n",
              "      <th>rm</th>\n",
              "      <th>age</th>\n",
              "      <th>dis</th>\n",
              "      <th>rad</th>\n",
              "      <th>tax</th>\n",
              "      <th>ptratio</th>\n",
              "      <th>black</th>\n",
              "      <th>lstat</th>\n",
              "      <th>medv</th>\n",
              "    </tr>\n",
              "  </thead>\n",
              "  <tbody>\n",
              "    <tr>\n",
              "      <th>0</th>\n",
              "      <td>1</td>\n",
              "      <td>0.00632</td>\n",
              "      <td>18.0</td>\n",
              "      <td>2.31</td>\n",
              "      <td>0</td>\n",
              "      <td>0.538</td>\n",
              "      <td>6.575</td>\n",
              "      <td>65.2</td>\n",
              "      <td>4.0900</td>\n",
              "      <td>1</td>\n",
              "      <td>296</td>\n",
              "      <td>15.3</td>\n",
              "      <td>396.90</td>\n",
              "      <td>4.98</td>\n",
              "      <td>24.0</td>\n",
              "    </tr>\n",
              "    <tr>\n",
              "      <th>1</th>\n",
              "      <td>2</td>\n",
              "      <td>0.02731</td>\n",
              "      <td>0.0</td>\n",
              "      <td>7.07</td>\n",
              "      <td>0</td>\n",
              "      <td>0.469</td>\n",
              "      <td>6.421</td>\n",
              "      <td>78.9</td>\n",
              "      <td>4.9671</td>\n",
              "      <td>2</td>\n",
              "      <td>242</td>\n",
              "      <td>17.8</td>\n",
              "      <td>396.90</td>\n",
              "      <td>9.14</td>\n",
              "      <td>21.6</td>\n",
              "    </tr>\n",
              "    <tr>\n",
              "      <th>2</th>\n",
              "      <td>3</td>\n",
              "      <td>0.02729</td>\n",
              "      <td>0.0</td>\n",
              "      <td>7.07</td>\n",
              "      <td>0</td>\n",
              "      <td>0.469</td>\n",
              "      <td>7.185</td>\n",
              "      <td>61.1</td>\n",
              "      <td>4.9671</td>\n",
              "      <td>2</td>\n",
              "      <td>242</td>\n",
              "      <td>17.8</td>\n",
              "      <td>392.83</td>\n",
              "      <td>4.03</td>\n",
              "      <td>34.7</td>\n",
              "    </tr>\n",
              "    <tr>\n",
              "      <th>3</th>\n",
              "      <td>4</td>\n",
              "      <td>0.03237</td>\n",
              "      <td>0.0</td>\n",
              "      <td>2.18</td>\n",
              "      <td>0</td>\n",
              "      <td>0.458</td>\n",
              "      <td>6.998</td>\n",
              "      <td>45.8</td>\n",
              "      <td>6.0622</td>\n",
              "      <td>3</td>\n",
              "      <td>222</td>\n",
              "      <td>18.7</td>\n",
              "      <td>394.63</td>\n",
              "      <td>2.94</td>\n",
              "      <td>33.4</td>\n",
              "    </tr>\n",
              "    <tr>\n",
              "      <th>4</th>\n",
              "      <td>5</td>\n",
              "      <td>0.06905</td>\n",
              "      <td>0.0</td>\n",
              "      <td>2.18</td>\n",
              "      <td>0</td>\n",
              "      <td>0.458</td>\n",
              "      <td>7.147</td>\n",
              "      <td>54.2</td>\n",
              "      <td>6.0622</td>\n",
              "      <td>3</td>\n",
              "      <td>222</td>\n",
              "      <td>18.7</td>\n",
              "      <td>396.90</td>\n",
              "      <td>5.33</td>\n",
              "      <td>36.2</td>\n",
              "    </tr>\n",
              "  </tbody>\n",
              "</table>\n",
              "</div>\n",
              "      <button class=\"colab-df-convert\" onclick=\"convertToInteractive('df-aac130f9-7e7b-4efe-bd83-6d7fbde79126')\"\n",
              "              title=\"Convert this dataframe to an interactive table.\"\n",
              "              style=\"display:none;\">\n",
              "        \n",
              "  <svg xmlns=\"http://www.w3.org/2000/svg\" height=\"24px\"viewBox=\"0 0 24 24\"\n",
              "       width=\"24px\">\n",
              "    <path d=\"M0 0h24v24H0V0z\" fill=\"none\"/>\n",
              "    <path d=\"M18.56 5.44l.94 2.06.94-2.06 2.06-.94-2.06-.94-.94-2.06-.94 2.06-2.06.94zm-11 1L8.5 8.5l.94-2.06 2.06-.94-2.06-.94L8.5 2.5l-.94 2.06-2.06.94zm10 10l.94 2.06.94-2.06 2.06-.94-2.06-.94-.94-2.06-.94 2.06-2.06.94z\"/><path d=\"M17.41 7.96l-1.37-1.37c-.4-.4-.92-.59-1.43-.59-.52 0-1.04.2-1.43.59L10.3 9.45l-7.72 7.72c-.78.78-.78 2.05 0 2.83L4 21.41c.39.39.9.59 1.41.59.51 0 1.02-.2 1.41-.59l7.78-7.78 2.81-2.81c.8-.78.8-2.07 0-2.86zM5.41 20L4 18.59l7.72-7.72 1.47 1.35L5.41 20z\"/>\n",
              "  </svg>\n",
              "      </button>\n",
              "      \n",
              "  <style>\n",
              "    .colab-df-container {\n",
              "      display:flex;\n",
              "      flex-wrap:wrap;\n",
              "      gap: 12px;\n",
              "    }\n",
              "\n",
              "    .colab-df-convert {\n",
              "      background-color: #E8F0FE;\n",
              "      border: none;\n",
              "      border-radius: 50%;\n",
              "      cursor: pointer;\n",
              "      display: none;\n",
              "      fill: #1967D2;\n",
              "      height: 32px;\n",
              "      padding: 0 0 0 0;\n",
              "      width: 32px;\n",
              "    }\n",
              "\n",
              "    .colab-df-convert:hover {\n",
              "      background-color: #E2EBFA;\n",
              "      box-shadow: 0px 1px 2px rgba(60, 64, 67, 0.3), 0px 1px 3px 1px rgba(60, 64, 67, 0.15);\n",
              "      fill: #174EA6;\n",
              "    }\n",
              "\n",
              "    [theme=dark] .colab-df-convert {\n",
              "      background-color: #3B4455;\n",
              "      fill: #D2E3FC;\n",
              "    }\n",
              "\n",
              "    [theme=dark] .colab-df-convert:hover {\n",
              "      background-color: #434B5C;\n",
              "      box-shadow: 0px 1px 3px 1px rgba(0, 0, 0, 0.15);\n",
              "      filter: drop-shadow(0px 1px 2px rgba(0, 0, 0, 0.3));\n",
              "      fill: #FFFFFF;\n",
              "    }\n",
              "  </style>\n",
              "\n",
              "      <script>\n",
              "        const buttonEl =\n",
              "          document.querySelector('#df-aac130f9-7e7b-4efe-bd83-6d7fbde79126 button.colab-df-convert');\n",
              "        buttonEl.style.display =\n",
              "          google.colab.kernel.accessAllowed ? 'block' : 'none';\n",
              "\n",
              "        async function convertToInteractive(key) {\n",
              "          const element = document.querySelector('#df-aac130f9-7e7b-4efe-bd83-6d7fbde79126');\n",
              "          const dataTable =\n",
              "            await google.colab.kernel.invokeFunction('convertToInteractive',\n",
              "                                                     [key], {});\n",
              "          if (!dataTable) return;\n",
              "\n",
              "          const docLinkHtml = 'Like what you see? Visit the ' +\n",
              "            '<a target=\"_blank\" href=https://colab.research.google.com/notebooks/data_table.ipynb>data table notebook</a>'\n",
              "            + ' to learn more about interactive tables.';\n",
              "          element.innerHTML = '';\n",
              "          dataTable['output_type'] = 'display_data';\n",
              "          await google.colab.output.renderOutput(dataTable, element);\n",
              "          const docLink = document.createElement('div');\n",
              "          docLink.innerHTML = docLinkHtml;\n",
              "          element.appendChild(docLink);\n",
              "        }\n",
              "      </script>\n",
              "    </div>\n",
              "  </div>\n",
              "  "
            ],
            "text/plain": [
              "   Unnamed: 0     crim    zn  indus  chas    nox     rm   age     dis  rad  \\\n",
              "0           1  0.00632  18.0   2.31     0  0.538  6.575  65.2  4.0900    1   \n",
              "1           2  0.02731   0.0   7.07     0  0.469  6.421  78.9  4.9671    2   \n",
              "2           3  0.02729   0.0   7.07     0  0.469  7.185  61.1  4.9671    2   \n",
              "3           4  0.03237   0.0   2.18     0  0.458  6.998  45.8  6.0622    3   \n",
              "4           5  0.06905   0.0   2.18     0  0.458  7.147  54.2  6.0622    3   \n",
              "\n",
              "   tax  ptratio   black  lstat  medv  \n",
              "0  296     15.3  396.90   4.98  24.0  \n",
              "1  242     17.8  396.90   9.14  21.6  \n",
              "2  242     17.8  392.83   4.03  34.7  \n",
              "3  222     18.7  394.63   2.94  33.4  \n",
              "4  222     18.7  396.90   5.33  36.2  "
            ]
          },
          "execution_count": 23,
          "metadata": {},
          "output_type": "execute_result"
        }
      ],
      "source": [
        "dados = pd.read_csv('/Boston.csv', sep =',')\n",
        "original_sample=dados.medv\n",
        "dados.head()\n"
      ]
    },
    {
      "attachments": {},
      "cell_type": "markdown",
      "metadata": {
        "id": "msXqNkOB1rz0"
      },
      "source": [
        "(i) Com base neste conjunto de dados, forneça uma estimativa pontual para a\n",
        "média populacional da variável medv. Chame essa estimativa µ."
      ]
    },
    {
      "cell_type": "code",
      "execution_count": 24,
      "metadata": {
        "colab": {
          "base_uri": "https://localhost:8080/"
        },
        "id": "NXEUSpmKzJCA",
        "outputId": "8aa4b1ce-3e7b-4109-e653-6836d5e8676b"
      },
      "outputs": [
        {
          "name": "stdout",
          "output_type": "stream",
          "text": [
            "Estimativa pontual da média populacional (µ): 22.532806324110677\n"
          ]
        }
      ],
      "source": [
        "# Calcular a média da coluna \"medv\"\n",
        "media_populacional = dados['medv'].mean()\n",
        "\n",
        "# Imprimir a estimativa pontual da média populacional\n",
        "print(\"Estimativa pontual da média populacional (µ):\", media_populacional)"
      ]
    },
    {
      "attachments": {},
      "cell_type": "markdown",
      "metadata": {
        "id": "_t3Eut4B1zre"
      },
      "source": [
        "(ii) Forneça uma estimativa do erro padrão de µ. Interprete o resultado."
      ]
    },
    {
      "cell_type": "code",
      "execution_count": 26,
      "metadata": {
        "colab": {
          "base_uri": "https://localhost:8080/"
        },
        "id": "jxmQ-Q7Q1Fxu",
        "outputId": "44302a30-a864-4c20-bd4b-c13fe56679d8"
      },
      "outputs": [
        {
          "name": "stdout",
          "output_type": "stream",
          "text": [
            "Estimativa do erro padrão (SE) 9.188011545278203\n"
          ]
        }
      ],
      "source": [
        "se_media=np.std(original_sample)\n",
        "print(\"Estimativa do erro padrão (SE)\",se_media)"
      ]
    },
    {
      "attachments": {},
      "cell_type": "markdown",
      "metadata": {
        "id": "pHjqEfkb3Y3w"
      },
      "source": [
        "\n",
        "Uma estimativa do erro padrão de 9.188, obtida sem o uso do método Bootstrap, indica a variabilidade esperada na estimativa da média populacional (µ) com base nos dados amostrais. O erro padrão é uma medida da dispersão dos dados em torno da média.\n",
        "\n",
        "Nesse contexto, um erro padrão de 9.188 significa que, em média, as estimativas da média populacional podem variar em torno de 9.188 unidades. Quanto maior o valor do erro padrão, maior é a incerteza associada à estimativa da média populacional. Em outras palavras, existe uma maior margem de erro na estimativa da média.\n",
        "\n",
        "Portanto, um erro padrão de 9.18 indica uma variabilidade considerável nos dados amostrais e sugere que há uma certa imprecisão na estimativa da média populacional com base nessa amostra específica"
      ]
    },
    {
      "attachments": {},
      "cell_type": "markdown",
      "metadata": {
        "id": "YfaflXpA13b-"
      },
      "source": [
        "(iii) Agora estime o erro padrão de  µ usando o método Bootstrap. Como essa\n",
        "estimativa se compara com sua resposta de (ii)?"
      ]
    },
    {
      "cell_type": "code",
      "execution_count": 30,
      "metadata": {
        "colab": {
          "base_uri": "https://localhost:8080/"
        },
        "id": "F21SQHoF0Esz",
        "outputId": "ac5b5b8c-f14f-4bbb-e0a2-44e641aaea39"
      },
      "outputs": [
        {
          "name": "stdout",
          "output_type": "stream",
          "text": [
            "Estimativa do erro padrão (SE): 0.40886114749753505\n"
          ]
        }
      ],
      "source": [
        "# Calcular o erro padrão da média\n",
        "bootstrap_erro_padrao = np.std(dados['medv'], ddof=1) / np.sqrt(len(dados['medv']))\n",
        "\n",
        "# Imprimir a estimativa do erro padrão\n",
        "print(\"Estimativa do erro padrão (SE):\", bootstrap_erro_padrao)"
      ]
    },
    {
      "attachments": {},
      "cell_type": "markdown",
      "metadata": {
        "id": "LN_oXQFz0JtV"
      },
      "source": [
        "O erro padrão obtido sem bootstrap (9.18) representa a estimativa da variabilidade da média populacional com base na amostra original. Ele leva em consideração a dispersão dos dados amostrais e fornece uma medida da incerteza na estimativa da média.\n",
        "\n",
        "Por outro lado, o erro padrão com bootstrap (0.408) é uma estimativa obtida por meio do método Bootstrap, que é uma técnica de reamostragem. O Bootstrap é usado para estimar a variabilidade de uma estatística calculada a partir de múltiplas amostras de reamostragem dos dados originais. Ele fornece uma medida mais precisa da variabilidade da estatística em questão.\n",
        "\n",
        "A diferença entre os dois valores, 9.18 e 0.408, indica que o erro padrão com bootstrap é consideravelmente menor. Isso sugere que a estimativa do erro padrão com bootstrap é mais precisa e confiável do que a estimativa obtida sem bootstrap. O erro padrão com bootstrap leva em consideração a variação entre as amostras de reamostragem, o que resulta em uma estimativa mais refinada da variabilidade da média populacional.\n",
        "\n",
        "Em resumo, o erro padrão com bootstrap de 0.408 é uma estimativa mais precisa e confiável da variabilidade da média populacional em comparação com o erro padrão sem bootstrap de 9.18. Ele fornece uma medida mais refinada da incerteza na estimativa da média com base nos dados amostrais."
      ]
    },
    {
      "attachments": {},
      "cell_type": "markdown",
      "metadata": {
        "id": "6zH58g_x4Ejv"
      },
      "source": [
        "(iv) Com base em sua estimativa de bootstrap de (iii), forneça um intervalo de\n",
        "confiança de 95% para a média de medv. Compare-o com os resultados\n",
        "obtidos usando t-test sobre o atributo medv"
      ]
    },
    {
      "cell_type": "code",
      "execution_count": 36,
      "metadata": {
        "colab": {
          "base_uri": "https://localhost:8080/"
        },
        "id": "wwGCT1Zk5_M2",
        "outputId": "a8adbbd5-1742-4403-a9a4-841714cee9f4"
      },
      "outputs": [
        {
          "name": "stdout",
          "output_type": "stream",
          "text": [
            "Intervalo de Confiança usando Bootstrap: (21.77, 23.35)\n",
            "Intervalo de Confiança usando t-test: (21.73, 23.34)\n"
          ]
        }
      ],
      "source": [
        "# Usando bootstrap\n",
        "bootstrap_means = []\n",
        "n_bootstrap = 1000  # número de amostras de bootstrap\n",
        "np.random.seed(42)  # definindo uma semente para reproducibilidade\n",
        "\n",
        "for _ in range(n_bootstrap):\n",
        "    bootstrap_sample = np.random.choice(dados.medv, size=len(dados.medv), replace=True)\n",
        "    bootstrap_mean = np.mean(bootstrap_sample)\n",
        "    bootstrap_means.append(bootstrap_mean)\n",
        "\n",
        "linf = np.percentile(bootstrap_means, 2.5)\n",
        "lsup = np.percentile(bootstrap_means, 97.5)\n",
        "print(\"Intervalo de Confiança usando Bootstrap: (%.2f, %.2f)\" % (linf, lsup))\n",
        "\n",
        "# Usando t-test\n",
        "from scipy.stats import t\n",
        "\n",
        "alpha = 0.05\n",
        "n = len(dados.medv)\n",
        "t_score = np.abs(t.ppf(alpha/2, n-1))\n",
        "se = np.std(dados.medv, ddof=1) / np.sqrt(n)  # Erro padrão da média usando desvio padrão amostral\n",
        "ic_lower = np.mean(dados.medv) - t_score * se\n",
        "ic_upper = np.mean(dados.medv) + t_score * se\n",
        "print(\"Intervalo de Confiança usando t-test: (%.2f, %.2f)\" % (ic_lower, ic_upper))\n"
      ]
    },
    {
      "attachments": {},
      "cell_type": "markdown",
      "metadata": {
        "id": "HNV0qVBo6Ho-"
      },
      "source": [
        "Os intervalos de confiança são bastante semelhantes, o que indica uma concordância razoável entre os dois métodos. Isso significa que, com 95% de confiança, espera-se que a verdadeira média populacional da variável medv esteja dentro desses intervalos."
      ]
    },
    {
      "attachments": {},
      "cell_type": "markdown",
      "metadata": {
        "id": "Hdwn3Su66Ia-"
      },
      "source": [
        "(v) Com base neste conjunto de dados, forneça uma estimativa, µmed, para a\n",
        "mediana populacional de medv.\n"
      ]
    },
    {
      "cell_type": "code",
      "execution_count": 37,
      "metadata": {
        "colab": {
          "base_uri": "https://localhost:8080/"
        },
        "id": "LBBcqiLF6MHD",
        "outputId": "954742ae-6281-450d-b210-b183f1a6811c"
      },
      "outputs": [
        {
          "name": "stdout",
          "output_type": "stream",
          "text": [
            "mediana:  21.2\n"
          ]
        }
      ],
      "source": [
        "mediana=np.median(original_sample)\n",
        "print(\"mediana: \", mediana)"
      ]
    },
    {
      "attachments": {},
      "cell_type": "markdown",
      "metadata": {
        "id": "dHWJcomT6feA"
      },
      "source": [
        "(vi) Agora você deve estimar o erro padrão de  µmed. Infelizmente, não há uma\n",
        "fórmula simples para calcular o erro padrão da mediana. Em vez disso, estime o erro padrão da mediana usando o método bootstrap. Comente suas descobertas."
      ]
    },
    {
      "cell_type": "code",
      "execution_count": 39,
      "metadata": {
        "colab": {
          "base_uri": "https://localhost:8080/"
        },
        "id": "2AXOVrPk6gyN",
        "outputId": "93007ba3-cf3b-4e3e-d47d-b0f84c0e4db8"
      },
      "outputs": [
        {
          "name": "stdout",
          "output_type": "stream",
          "text": [
            "erro padrao: 0.3776246411451453\n"
          ]
        }
      ],
      "source": [
        "bootstrap_dist_mediana=[np.median(np.random.choice(original_sample, len(dados.medv),replace=True)) for _ in range(10000)]\n",
        "se_mediana_bootstrap=np.std(bootstrap_dist_mediana)\n",
        "print(\"erro padrao:\", se_mediana_bootstrap)"
      ]
    },
    {
      "attachments": {},
      "cell_type": "markdown",
      "metadata": {
        "id": "cq2zka_G7tWz"
      },
      "source": [
        "Ao estimar o erro padrão da mediana usando o método bootstrap, obtemos uma medida da variabilidade esperada na estimativa da mediana. O valor do erro padrão indica a dispersão das medianas calculadas a partir das diferentes amostras bootstrap.\n",
        "\n",
        "Nesse caso, o erro padrão estimado é de 0.3776. Isso significa que, em média, esperamos que a mediana da variável \"medv\" varie cerca de 0.3776 unidades em diferentes amostras bootstrap do conjunto de dados.\n",
        "\n",
        "Quanto menor o valor do erro padrão, menor é a variabilidade esperada na estimativa da mediana. Isso sugere que a mediana da variável \"medv\" é mais robusta e menos sujeita a flutuações aleatórias.\n",
        "\n",
        "Portanto, com base nessa estimativa do erro padrão da mediana, podemos ter uma ideia da precisão da nossa estimativa da mediana populacional para o atributo \"medv\"."
      ]
    },
    {
      "attachments": {},
      "cell_type": "markdown",
      "metadata": {
        "id": "zuKMjD2T7AQK"
      },
      "source": [
        "(vii) Forneça uma estimativa para o décimo percentil do atributo medv. Chame essa quantidade de µ0.1."
      ]
    },
    {
      "cell_type": "code",
      "execution_count": 40,
      "metadata": {
        "colab": {
          "base_uri": "https://localhost:8080/"
        },
        "id": "RlmMVcsN7BDO",
        "outputId": "e6648c96-62e3-4e95-ede1-e0b830591032"
      },
      "outputs": [
        {
          "name": "stdout",
          "output_type": "stream",
          "text": [
            "µ0.1:  5.0\n"
          ]
        }
      ],
      "source": [
        "media_decimo_percentil=np.percentile(original_sample,0.1)\n",
        "print(\"µ0.1: \", media_decimo_percentil)"
      ]
    },
    {
      "attachments": {},
      "cell_type": "markdown",
      "metadata": {
        "id": "gbW3O4Fp77NM"
      },
      "source": [
        "(viii) Use o método bootstrap para estimar o erro padrão de µ0.1. Comente suas\n",
        "descobertas\n"
      ]
    },
    {
      "cell_type": "code",
      "execution_count": 41,
      "metadata": {
        "colab": {
          "base_uri": "https://localhost:8080/"
        },
        "id": "F1Zo2iTQ8H5u",
        "outputId": "e3ffdd53-6271-4ff2-9a3b-ded14530165c"
      },
      "outputs": [
        {
          "name": "stdout",
          "output_type": "stream",
          "text": [
            "erro padrao: 0.46034916776916185\n"
          ]
        }
      ],
      "source": [
        "bootstrap_dist_percentil=[np.percentile(np.random.choice(original_sample, len(dados.medv),replace=True),0.1) for _ in range(10000)]\n",
        "se_media_decimo_percentil_bootstrap=np.std(bootstrap_dist_percentil)\n",
        "\n",
        "print(\"erro padrao:\" , se_media_decimo_percentil_bootstrap)"
      ]
    },
    {
      "attachments": {},
      "cell_type": "markdown",
      "metadata": {
        "id": "HYT_FIKC8k2J"
      },
      "source": [
        "O resultado obtido foi um erro padrão de 0.4603. Isso significa que, em média, esperamos que a média estimada de µ0.1 varie cerca de 0.4603 unidades em diferentes amostras bootstrap.\n",
        "\n",
        "Quanto maior for o valor do erro padrão, maior é a variabilidade esperada na estimativa de µ0.1. Isso indica que a média de µ0.1 pode variar consideravelmente entre diferentes amostras bootstrap.\n",
        "\n",
        "Essa estimativa do erro padrão nos fornece uma medida da incerteza associada à estimativa da média populacional de µ0.1 usando o método bootstrap. Quanto menor o valor do erro padrão, maior é a precisão da estimativa.\n",
        "\n",
        "Portanto, com base nesse resultado, podemos ter uma noção da variabilidade esperada na estimativa da média populacional de µ0.1 por meio do método bootstrap."
      ]
    },
    {
      "attachments": {},
      "cell_type": "markdown",
      "metadata": {
        "id": "LNOx-Y2V8l1q"
      },
      "source": [
        "# 3 Bootstrap II"
      ]
    },
    {
      "attachments": {},
      "cell_type": "markdown",
      "metadata": {
        "id": "gaJyAAiO8y9Y"
      },
      "source": [
        "Repita o teste de hipótese solicitado na parte 1 deste trabalho, desta vez usando a técnica Bootstrapping. Você chegou ao mesmo resultado? Forneça uma análise comparativa dos dois resultados."
      ]
    },
    {
      "attachments": {},
      "cell_type": "markdown",
      "metadata": {
        "id": "pFLEoCUs9TaQ"
      },
      "source": [
        "Hipótese Nula (H0): Não há diferença significativa na média populacional de medv entre os grupos.\n",
        "Hipótese Alternativa (H1): Há diferença significativa na média populacional de medv entre os grupos."
      ]
    },
    {
      "cell_type": "code",
      "execution_count": 42,
      "metadata": {
        "colab": {
          "base_uri": "https://localhost:8080/"
        },
        "id": "IO1x9_Hc83NJ",
        "outputId": "c8d2e016-c817-436c-bfca-089d59cc93fc"
      },
      "outputs": [
        {
          "name": "stdout",
          "output_type": "stream",
          "text": [
            "A diferença entre a médias:  30.63492063492064\n",
            "p-valor: 0.1257\n"
          ]
        }
      ],
      "source": [
        "tratamento = np.array([94, 38, 23, 197, 16, 99, 141])\n",
        "controle = np.array([52, 10, 40, 104, 146, 50, 31, 27, 46])\n",
        "amostra_uniao=np.concatenate((tratamento, controle), axis=0)\n",
        "\n",
        "#produzindo amostras com reposição\n",
        "permutacao_tratamento=[]\n",
        "permutacao_controle=[]\n",
        "\n",
        "for i in range(10000):\n",
        "  np.random.seed(i)\n",
        "  permutacao_tratamento.append(resample(amostra_uniao,n_samples=len(tratamento)))\n",
        "  permutacao_controle.append(resample(amostra_uniao,n_samples=len(controle)))\n",
        "\n",
        "dif_bootstrap_means=(np.mean(permutacao_tratamento,axis=1)-np.mean(permutacao_controle,axis=1))\n",
        "dif_bootstrap_means\n",
        "\n",
        "#Calculando a diferença entre as médias observadas nas amostras originais\n",
        "\n",
        "diferenca= (np.mean(tratamento)-np.mean(controle))\n",
        "print(\"A diferença entre a médias: \", diferenca)\n",
        "\n",
        "#Calculando o p-valor\n",
        "p_valor=dif_bootstrap_means[dif_bootstrap_means > diferenca].shape[0]/10000\n",
        "print(\"p-valor:\" , p_valor)"
      ]
    },
    {
      "attachments": {},
      "cell_type": "markdown",
      "metadata": {
        "id": "zh_kJgWM_gVL"
      },
      "source": [
        "No teste de hipótese realizado usando a técnica Bootstrap, obteve-se uma diferença observada entre as médias de tratamento e controle de 30.63492063492064.\n",
        "\n",
        "Após realizar 10.000 permutações entre os grupos de tratamento e controle, obteve-se uma distribuição de diferenças de médias bootstrap. Calculando o p-valor, que é a proporção das diferenças bootstrap maiores do que a diferença observada, chegou-se a um valor de p-valor de 0.1257.\n",
        "\n",
        "Isso significa que, com um nível de significância de 5%, não temos evidências suficientes para rejeitar a hipótese nula de que não há diferença significativa na média populacional de medv entre os grupos. O p-valor obtido é maior que o nível de significância, indicando que a diferença observada pode ser devida ao acaso e não reflete uma diferença real entre os grupos.\n",
        "\n",
        "Portanto, com base nessa análise, não há evidências significativas para concluir que o tratamento prolonga a sobrevivência após a cirurgia de teste."
      ]
    },
    {
      "attachments": {},
      "cell_type": "markdown",
      "metadata": {
        "id": "2h7E5eda_lun"
      },
      "source": [
        "# 4 Teste de Permutação vs Teste Bootstrap - I"
      ]
    },
    {
      "attachments": {},
      "cell_type": "markdown",
      "metadata": {
        "id": "hK70TIJo_xUy"
      },
      "source": [
        "Uma empresa quer saber se é eficiente ensinar novas ferramentas aos seus funcionários usando cursos pela internet. A empresa seleciona aleatoriamente 7 trabalhadores e os atribui a dois grupos de tamanhos 4 e 3. O primeiro grupo frequentou aulas tradicionais, e o segundo frequentou cursos pela internet. Após os cursos foi aplicado um teste aos trabalhadores cujos resultados foram:\n",
        "\n",
        "• Cursos na Internet: 37, 49, 55, 57\n",
        "\n",
        "• Cursos tradicionais: 23, 31, 46\n",
        "\n",
        "Mostre se os cursos da Internet são mais efetivos do que os cursos tradicionais. Para isso, aplique um teste de permutação e um teste de bootstrap. Os dois testes levam à mesma conclusão?"
      ]
    },
    {
      "attachments": {},
      "cell_type": "markdown",
      "metadata": {
        "id": "y9CCsl69Ffqe"
      },
      "source": [
        "Hipótese nula (H0): Não há diferença na efetividade entre os cursos pela internet e os cursos tradicionais.\n",
        "\n",
        "Hipótese alternativa (HA): Os cursos pela internet são mais efetivos do que os cursos tradicionais."
      ]
    },
    {
      "cell_type": "code",
      "execution_count": 49,
      "metadata": {
        "colab": {
          "base_uri": "https://localhost:8080/"
        },
        "id": "IZIwcTJH_uL5",
        "outputId": "b165d04a-8ddb-475c-f035-1c94b37543c9"
      },
      "outputs": [
        {
          "name": "stdout",
          "output_type": "stream",
          "text": [
            "Resultado do teste de permutação (p-valor):  0.0261\n",
            "Resultado do teste de bootstrap (p-valor):  0.0338\n"
          ]
        }
      ],
      "source": [
        "#Fazendo a diferença de médias observadas no par de amostras original\n",
        "cursos_internet=np.array([37,49,55,57])\n",
        "cursos_tradicionais=np.array([23,31,46])\n",
        "\n",
        "diferenca=np.abs(cursos_internet.mean()-cursos_tradicionais.mean())\n",
        "\n",
        "#Fazendo as amostrar permutadas\n",
        "import random\n",
        "amostra_uniao=np.concatenate((cursos_internet, cursos_tradicionais), axis=0)\n",
        "B=10000\n",
        "diferencas=np.zeros(B)\n",
        "for i in range(B):\n",
        "  random.shuffle(amostra_uniao)\n",
        "  media_a1=np.array(amostra_uniao[:4]).mean()\n",
        "  media_a2=np.array(amostra_uniao[4:]).mean()\n",
        "\n",
        "  diferencas[i]=media_a1-media_a2\n",
        "#Calculando o p-valor\n",
        "n=np.where(diferencas>diferenca)[0].shape[0]\n",
        "p_permutacao=n/B\n",
        "print(\"Resultado do teste de permutação (p-valor): \", p_permutacao)\n",
        "\n",
        "\n",
        "#produzindo amostras com reposição\n",
        "permutacao_internet=[]\n",
        "permutacao_tradicionais=[]\n",
        "\n",
        "for i in range(B):\n",
        "  np.random.seed(i)\n",
        "  permutacao_internet.append(resample(amostra_uniao,n_samples=len(cursos_internet)))\n",
        "  permutacao_tradicionais.append(resample(amostra_uniao,n_samples=len(cursos_tradicionais)))\n",
        "\n",
        "dif_bootstrap_means=(np.mean(permutacao_internet,axis=1)-np.mean(permutacao_tradicionais,axis=1))\n",
        "dif_bootstrap_means\n",
        "\n",
        "#Calculando a diferença entre as médias observadas nas amostras originais\n",
        "\n",
        "diferenca=(np.mean(cursos_internet)-np.mean(cursos_tradicionais))\n",
        "\n",
        "#Calculando o p-valor\n",
        "p_bootstrap=dif_bootstrap_means[dif_bootstrap_means > diferenca].shape[0]/B\n",
        "print(\"Resultado do teste de bootstrap (p-valor): \", p_bootstrap)"
      ]
    },
    {
      "attachments": {},
      "cell_type": "markdown",
      "metadata": {
        "id": "9oagRo-xHTAs"
      },
      "source": [
        "Os resultados dos testes de permutação e bootstrap indicam que há diferença estatisticamente significativa na efetividade entre os cursos pela internet e os cursos tradicionais.\n",
        "\n",
        "No teste de permutação, o p-valor obtido foi de 0.0261, o que significa que, assumindo a hipótese nula de que não há diferença na efetividade dos cursos, a probabilidade de observar uma diferença na média tão grande ou maior do que a diferença observada é de 0.0261. Portanto, com um nível de significância de 0.05, rejeitamos a hipótese nula e concluímos que os cursos pela internet são mais efetivos do que os cursos tradicionais.\n",
        "\n",
        "No teste de bootstrap, o p-valor obtido foi de 0.0338, indicando novamente uma diferença estatisticamente significativa entre os cursos pela internet e os cursos tradicionais. O p-valor representa a probabilidade de obter uma diferença na média tão grande ou maior do que a diferença observada, assumindo que não há diferença real entre os grupos. Como o p-valor é menor do que o nível de significância de 0.05, rejeitamos a hipótese nula e concluímos que os cursos pela internet são mais efetivos do que os cursos tradicionais.\n",
        "\n",
        "Portanto, os dois testes, permutação e bootstrap, levam à mesma conclusão de que os cursos pela internet são mais efetivos do que os cursos tradicionais. Essa consistência nos resultados fortalece a evidência de que os cursos pela internet são uma opção mais vantajosa para a empresa."
      ]
    },
    {
      "attachments": {},
      "cell_type": "markdown",
      "metadata": {
        "id": "cSWpnLsOHTxL"
      },
      "source": [
        "# 5 Teste de Permutação vs Teste Bootstrap - II"
      ]
    },
    {
      "attachments": {},
      "cell_type": "markdown",
      "metadata": {
        "id": "yemouWrbHdvp"
      },
      "source": [
        "Duas empresas, A e B, afirmam ter desenvolvido nova tecnologia para aumentar as velocidades de transmissão em uma rede de computadores. Os gerentes de marketing de ambas as empresas anunciam simultaneamente que podem transmitir 1 terabyte por segundo. Para fundamentar suas alegações, cada empresa envia dados de teste (em segundos) para transmitir um terabyte com suas novas tecnologias.\n",
        "\n",
        "• Empresa A: 0,98 0,85 0,91\n",
        "\n",
        "• Empresa americana: 0,95 0,94 0,8 1 0,99\n",
        "\n",
        "Há evidências que sugiram que a velocidade de transmissão usando a tecnologia desenvolvida pela empresa A é superior à velocidade de transmissão usando a tecnologia desenvolvida pela empresa B? Para responder a essa pergunta, aplique um teste de permutação e um teste de bootstrap. Os dois testes levam à mesma conclusão?"
      ]
    },
    {
      "attachments": {},
      "cell_type": "markdown",
      "metadata": {
        "id": "COICzUKYHwmG"
      },
      "source": [
        "Definir a hipótese nula (H0): Não há diferença entre as velocidades de transmissão das tecnologias A e B.\n",
        "\n",
        "Definir a hipótese alternativa (HA): A velocidade de transmissão da tecnologia A é superior à velocidade de transmissão da tecnologia B."
      ]
    },
    {
      "cell_type": "code",
      "execution_count": 50,
      "metadata": {
        "colab": {
          "base_uri": "https://localhost:8080/"
        },
        "id": "wieeEfJnHe1X",
        "outputId": "28487f9e-859f-4e4a-ae3b-e54e01f7bfa3"
      },
      "outputs": [
        {
          "name": "stdout",
          "output_type": "stream",
          "text": [
            "Resultado do teste de permutação (p-valor):  0.3689\n",
            "Resultado do teste de bootstrap (p-valor):  0.6853\n"
          ]
        }
      ],
      "source": [
        "#Fazendo a diferença de médias observadas no par de amostras original\n",
        "empresa_A=np.array([0.98, 0.85, 0.91])\n",
        "empresa_B=radicional=np.array([0.95, 0.94, 0.8, 1, 0.99])\n",
        "\n",
        "diferenca=np.abs(empresa_A.mean()- empresa_B.mean())\n",
        "\n",
        "amostra_uniao=np.concatenate((empresa_A, empresa_B), axis=0)\n",
        "B=10000\n",
        "diferencas=np.zeros(B)\n",
        "for i in range(B):\n",
        "  random.shuffle(amostra_uniao)\n",
        "  media_a1=np.array(amostra_uniao[:3]).mean()\n",
        "  media_a2=np.array(amostra_uniao[3:]).mean()\n",
        "\n",
        "  diferencas[i]=media_a1-media_a2\n",
        "\n",
        "#Calculando o p-valor\n",
        "n=np.where(diferencas>diferenca)[0].shape[0]\n",
        "p_permutacao=n/B\n",
        "print(\"Resultado do teste de permutação (p-valor): \", p_permutacao)\n",
        "\n",
        "#produzindo amostras com reposição\n",
        "permutacao_empresa_A=[]\n",
        "permutacao_empresa_B=[]\n",
        "\n",
        "for i in range(B):\n",
        "  np.random.seed(i)\n",
        "  permutacao_empresa_A.append(resample(amostra_uniao,n_samples=len(empresa_A)))\n",
        "  permutacao_empresa_B.append(resample(amostra_uniao,n_samples=len(empresa_B)))\n",
        "\n",
        "dif_bootstrap_means=(np.mean(permutacao_empresa_A,axis=1)-np.mean(permutacao_empresa_B,axis=1))\n",
        "dif_bootstrap_means\n",
        "\n",
        "#Calculando a diferença entre as médias observadas nas amostras originais\n",
        "\n",
        "diferenca=(np.mean(empresa_A)-np.mean(empresa_B))\n",
        "\n",
        "#Calculando o p-valor\n",
        "p_bootstrap=dif_bootstrap_means[dif_bootstrap_means > diferenca].shape[0]/B\n",
        "print(\"Resultado do teste de bootstrap (p-valor): \", p_bootstrap)"
      ]
    },
    {
      "attachments": {},
      "cell_type": "markdown",
      "metadata": {
        "id": "UysXHQIBJFwG"
      },
      "source": [
        "Os resultados dos testes de permutação e bootstrap levam a conclusões diferentes em relação à superioridade da velocidade de transmissão entre as tecnologias A e B.\n",
        "\n",
        "No teste de permutação, o p-valor calculado foi de 0.3689. Como esse valor não é menor que o nível de significância pré-definido (0.05), não temos evidências suficientes para rejeitar a hipótese nula. Isso significa que não podemos concluir que a velocidade de transmissão da tecnologia A é superior à tecnologia B com base no teste de permutação.\n",
        "\n",
        "Por outro lado, no teste de bootstrap, o p-valor calculado foi de 0.6853. Da mesma forma, esse valor não é menor que o nível de significância pré-definido. Portanto, também não podemos rejeitar a hipótese nula com base no teste de bootstrap, o que indica que não há evidências suficientes para concluir que a velocidade de transmissão da tecnologia A é superior à tecnologia B.\n",
        "\n",
        "Em resumo, tanto o teste de permutação quanto o teste de bootstrap levam à mesma conclusão de que não há diferença estatisticamente significativa entre as velocidades de transmissão das tecnologias A e B. Portanto, não podemos afirmar que uma é mais efetiva do que a outra com base nos dados fornecidos."
      ]
    }
  ],
  "metadata": {
    "colab": {
      "provenance": []
    },
    "kernelspec": {
      "display_name": "Python 3",
      "name": "python3"
    },
    "language_info": {
      "name": "python",
      "version": "3.11.2"
    }
  },
  "nbformat": 4,
  "nbformat_minor": 0
}
